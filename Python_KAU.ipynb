{
  "nbformat": 4,
  "nbformat_minor": 0,
  "metadata": {
    "colab": {
      "provenance": [],
      "authorship_tag": "ABX9TyPCUEp3HL6+TERRqvw+f2kh",
      "include_colab_link": true
    },
    "kernelspec": {
      "name": "python3",
      "display_name": "Python 3"
    },
    "language_info": {
      "name": "python"
    }
  },
  "cells": [
    {
      "cell_type": "markdown",
      "metadata": {
        "id": "view-in-github",
        "colab_type": "text"
      },
      "source": [
        "<a href=\"https://colab.research.google.com/github/jjungwooseo/KAU_Python/blob/main/Python_KAU.ipynb\" target=\"_parent\"><img src=\"https://colab.research.google.com/assets/colab-badge.svg\" alt=\"Open In Colab\"/></a>"
      ]
    },
    {
      "cell_type": "code",
      "execution_count": 1,
      "metadata": {
        "colab": {
          "base_uri": "https://localhost:8080/"
        },
        "id": "WZQ46QsnUPa0",
        "outputId": "98d47be2-5c2c-4776-8ff2-b804a0477482"
      },
      "outputs": [
        {
          "output_type": "stream",
          "name": "stdout",
          "text": [
            "0\n",
            "1\n",
            "1\n",
            "2\n",
            "2\n",
            "3\n",
            "3\n",
            "4\n",
            "4\n",
            "5\n",
            "5\n",
            "6\n",
            "6\n",
            "7\n",
            "7\n",
            "8\n",
            "8\n",
            "9\n",
            "9\n",
            "10\n"
          ]
        }
      ],
      "source": [
        "for i in range(10):\n",
        "  print(i)\n",
        "  print(i+1)"
      ]
    },
    {
      "cell_type": "code",
      "source": [
        "print('Hello');print('World')"
      ],
      "metadata": {
        "colab": {
          "base_uri": "https://localhost:8080/"
        },
        "id": "mthEjQHbUY7t",
        "outputId": "c7e33b05-0b60-4de9-cc97-2272ccd71d02"
      },
      "execution_count": 2,
      "outputs": [
        {
          "output_type": "stream",
          "name": "stdout",
          "text": [
            "Hello\n",
            "World\n"
          ]
        }
      ]
    },
    {
      "cell_type": "code",
      "source": [
        "# 주석"
      ],
      "metadata": {
        "id": "SW7JL1zZUhL2"
      },
      "execution_count": null,
      "outputs": []
    },
    {
      "cell_type": "code",
      "source": [
        "'''\n",
        "Multiline commenta\n",
        "Line 1\n",
        "Line 2\n",
        "Line 3\n",
        "'''"
      ],
      "metadata": {
        "colab": {
          "base_uri": "https://localhost:8080/",
          "height": 36
        },
        "id": "nYsQ6RFwUi_Y",
        "outputId": "321c59a8-c426-4299-8b2c-e13635b8906d"
      },
      "execution_count": 3,
      "outputs": [
        {
          "output_type": "execute_result",
          "data": {
            "text/plain": [
              "'\\nMultiline commenta\\nLine 1\\nLine 2\\nLine 3\\n'"
            ],
            "application/vnd.google.colaboratory.intrinsic+json": {
              "type": "string"
            }
          },
          "metadata": {},
          "execution_count": 3
        }
      ]
    },
    {
      "cell_type": "code",
      "source": [
        "import math\n",
        "math.sqrt(81)\n",
        "math.factorial(5)\n",
        "import numpy as np\n",
        "A = np.array([1,2,3])"
      ],
      "metadata": {
        "id": "KgNYuZiMUpkk"
      },
      "execution_count": 6,
      "outputs": []
    },
    {
      "cell_type": "markdown",
      "source": [
        "원시 데이터 타입"
      ],
      "metadata": {
        "id": "c5mknZ75dyKO"
      }
    },
    {
      "cell_type": "code",
      "source": [
        "num_int = 30\n",
        "print(num_int)\n",
        "print(type(num_int))"
      ],
      "metadata": {
        "colab": {
          "base_uri": "https://localhost:8080/"
        },
        "id": "ZtpYsZH0d1Tu",
        "outputId": "4c7b8dba-8ebd-4611-e015-7438d4d64b9d"
      },
      "execution_count": 7,
      "outputs": [
        {
          "output_type": "stream",
          "name": "stdout",
          "text": [
            "30\n",
            "<class 'int'>\n"
          ]
        }
      ]
    },
    {
      "cell_type": "code",
      "source": [
        "x = True or False\n",
        "print(x)\n",
        "print(type(x))"
      ],
      "metadata": {
        "colab": {
          "base_uri": "https://localhost:8080/"
        },
        "id": "9a2WZ5fjd6ZO",
        "outputId": "2d71ce12-f8cb-4036-f44b-12158780d64d"
      },
      "execution_count": 8,
      "outputs": [
        {
          "output_type": "stream",
          "name": "stdout",
          "text": [
            "True\n",
            "<class 'bool'>\n"
          ]
        }
      ]
    },
    {
      "cell_type": "markdown",
      "source": [
        "사칙연산"
      ],
      "metadata": {
        "id": "Ng2dYubyeBUC"
      }
    },
    {
      "cell_type": "code",
      "source": [
        "x = 6\n",
        "y = 3\n",
        "result = x+y\n",
        "print(result)\n",
        "print(x-y)\n",
        "print(x*y)\n",
        "print(x/y)"
      ],
      "metadata": {
        "colab": {
          "base_uri": "https://localhost:8080/"
        },
        "id": "NRx9nk0KeC15",
        "outputId": "fe7b145d-56fb-4795-c38e-407aa9b1a661"
      },
      "execution_count": 11,
      "outputs": [
        {
          "output_type": "stream",
          "name": "stdout",
          "text": [
            "9\n",
            "3\n",
            "18\n",
            "2.0\n"
          ]
        }
      ]
    },
    {
      "cell_type": "code",
      "source": [
        "x = 2\n",
        "result = x ** 4\n",
        "print(result)"
      ],
      "metadata": {
        "colab": {
          "base_uri": "https://localhost:8080/"
        },
        "id": "GFTsZY23eQ_I",
        "outputId": "4d1df9f2-fa64-4389-d140-1a435e378ab1"
      },
      "execution_count": 12,
      "outputs": [
        {
          "output_type": "stream",
          "name": "stdout",
          "text": [
            "16\n"
          ]
        }
      ]
    },
    {
      "cell_type": "code",
      "source": [
        "x = 30\n",
        "y = 4\n",
        "print(x//y)"
      ],
      "metadata": {
        "colab": {
          "base_uri": "https://localhost:8080/"
        },
        "id": "mLxI-d4aeI2j",
        "outputId": "581811c1-1d97-4bec-be9e-d71e9eb7c9fe"
      },
      "execution_count": 10,
      "outputs": [
        {
          "output_type": "stream",
          "name": "stdout",
          "text": [
            "7\n"
          ]
        }
      ]
    },
    {
      "cell_type": "markdown",
      "source": [
        "조건 연산자"
      ],
      "metadata": {
        "id": "ZtRn3sHseYKe"
      }
    },
    {
      "cell_type": "code",
      "source": [
        "x = 418\n",
        "y = 430\n",
        "print(x==y)\n",
        "print(x!=y)\n",
        "print(x>y)\n",
        "print(x<y)\n",
        "print(x>=y)\n",
        "print(x<=y)\n"
      ],
      "metadata": {
        "colab": {
          "base_uri": "https://localhost:8080/"
        },
        "id": "n_7_2AKjeadU",
        "outputId": "6a161cab-9a4f-4181-869c-ce791bcc56dd"
      },
      "execution_count": 13,
      "outputs": [
        {
          "output_type": "stream",
          "name": "stdout",
          "text": [
            "False\n",
            "True\n",
            "False\n",
            "True\n",
            "False\n",
            "True\n"
          ]
        }
      ]
    },
    {
      "cell_type": "code",
      "source": [
        "x = input('임이의 숫자를 입력하세요: ')\n",
        "print(x)"
      ],
      "metadata": {
        "colab": {
          "base_uri": "https://localhost:8080/"
        },
        "id": "kM2FCbdYekfe",
        "outputId": "8c3bff4b-943c-492e-b14d-72669477a46f"
      },
      "execution_count": 14,
      "outputs": [
        {
          "output_type": "stream",
          "name": "stdout",
          "text": [
            "임이의 숫자를 입력하세요: 19\n",
            "19\n"
          ]
        }
      ]
    },
    {
      "cell_type": "code",
      "source": [
        "True and False"
      ],
      "metadata": {
        "colab": {
          "base_uri": "https://localhost:8080/"
        },
        "id": "t4cEQ5NOeqVd",
        "outputId": "d05e4a55-571f-430f-ccb7-a6eddc6ed641"
      },
      "execution_count": 15,
      "outputs": [
        {
          "output_type": "execute_result",
          "data": {
            "text/plain": [
              "False"
            ]
          },
          "metadata": {},
          "execution_count": 15
        }
      ]
    },
    {
      "cell_type": "markdown",
      "source": [
        "String 덧셈,곱셈"
      ],
      "metadata": {
        "id": "nrojkTiTex8u"
      }
    },
    {
      "cell_type": "code",
      "source": [
        "a = 'boy'\n",
        "b = 'loves'\n",
        "c = 'girl'\n",
        "letter = a + \" \" + b + \" \"+ c + \" forever\"\n",
        "print(letter)"
      ],
      "metadata": {
        "colab": {
          "base_uri": "https://localhost:8080/"
        },
        "id": "ukCN-UKye0-b",
        "outputId": "12bbe759-30a1-4005-d1c1-96f6675d5e94"
      },
      "execution_count": 16,
      "outputs": [
        {
          "output_type": "stream",
          "name": "stdout",
          "text": [
            "boy loves girl forever\n"
          ]
        }
      ]
    },
    {
      "cell_type": "markdown",
      "source": [
        "문자열 수정"
      ],
      "metadata": {
        "id": "BAlLUlKLfJW5"
      }
    },
    {
      "cell_type": "code",
      "source": [
        "greeting = \"Hello, Streamlit\"\n",
        "#greeting[0] = 'A'"
      ],
      "metadata": {
        "id": "Qxv7HjfgfKgD"
      },
      "execution_count": 24,
      "outputs": []
    },
    {
      "cell_type": "code",
      "source": [
        "new_greeting = 'A' + greeting[1:]\n",
        "new_greeting"
      ],
      "metadata": {
        "colab": {
          "base_uri": "https://localhost:8080/",
          "height": 36
        },
        "id": "w6dK95S8fPRB",
        "outputId": "ee2101a1-c9e6-4d94-c660-3a7572375a81"
      },
      "execution_count": 18,
      "outputs": [
        {
          "output_type": "execute_result",
          "data": {
            "text/plain": [
              "'Aello, Streamlit'"
            ],
            "application/vnd.google.colaboratory.intrinsic+json": {
              "type": "string"
            }
          },
          "metadata": {},
          "execution_count": 18
        }
      ]
    },
    {
      "cell_type": "markdown",
      "source": [
        "문자열 메서드"
      ],
      "metadata": {
        "id": "H7OhsChdfcMy"
      }
    },
    {
      "cell_type": "code",
      "source": [
        "sampleText = 'hello, streamlit'\n",
        "upper_text = sampleText.upper()\n",
        "print(upper_text)\n",
        "\n"
      ],
      "metadata": {
        "colab": {
          "base_uri": "https://localhost:8080/"
        },
        "id": "xkAHDLInfeKH",
        "outputId": "d150de48-5f58-4106-e641-5d8fa102c679"
      },
      "execution_count": 21,
      "outputs": [
        {
          "output_type": "stream",
          "name": "stdout",
          "text": [
            "HELLO, STREAMLIT\n"
          ]
        }
      ]
    },
    {
      "cell_type": "code",
      "source": [
        "lower_text = upper_text.lower()\n",
        "print(lower_text)"
      ],
      "metadata": {
        "colab": {
          "base_uri": "https://localhost:8080/"
        },
        "id": "0rmHPKk5iGvF",
        "outputId": "2653f102-e167-46db-a174-b65a59c742ef"
      },
      "execution_count": 22,
      "outputs": [
        {
          "output_type": "stream",
          "name": "stdout",
          "text": [
            "hello, streamlit\n"
          ]
        }
      ]
    },
    {
      "cell_type": "code",
      "source": [
        "title_text = lower_text.title()\n",
        "print(title_text)"
      ],
      "metadata": {
        "colab": {
          "base_uri": "https://localhost:8080/"
        },
        "id": "PvqpDVBbiP-j",
        "outputId": "8fdd3537-cf41-4ba6-fd8e-d1d8391b0183"
      },
      "execution_count": 23,
      "outputs": [
        {
          "output_type": "stream",
          "name": "stdout",
          "text": [
            "Hello, Streamlit\n"
          ]
        }
      ]
    },
    {
      "cell_type": "code",
      "source": [
        "new_text = title_text.replace(\"Hello\",\"Welcome\")\n",
        "print(new_text)"
      ],
      "metadata": {
        "colab": {
          "base_uri": "https://localhost:8080/"
        },
        "id": "_HFTXNAgiVPQ",
        "outputId": "ab2782d2-15d6-4946-90cd-92bba80ec06b"
      },
      "execution_count": 25,
      "outputs": [
        {
          "output_type": "stream",
          "name": "stdout",
          "text": [
            "Welcome, Streamlit\n"
          ]
        }
      ]
    },
    {
      "cell_type": "code",
      "source": [
        "words = new_text.split(sep=\",\")\n",
        "print(words,type(words))"
      ],
      "metadata": {
        "colab": {
          "base_uri": "https://localhost:8080/"
        },
        "id": "3R9ywLfKie0i",
        "outputId": "c15f87bc-6660-420e-896f-6d10268a870b"
      },
      "execution_count": 26,
      "outputs": [
        {
          "output_type": "stream",
          "name": "stdout",
          "text": [
            "['Welcome', ' Streamlit'] <class 'list'>\n"
          ]
        }
      ]
    },
    {
      "cell_type": "markdown",
      "source": [
        "List"
      ],
      "metadata": {
        "id": "5Yl0ee4WitQy"
      }
    },
    {
      "cell_type": "code",
      "source": [
        "from collections.abc import Sequence\n",
        "\n",
        "my_num = 100\n",
        "my_string = \"hello\"\n",
        "my_list = [1,2,3]\n",
        "isinstance(my_list,Sequence)"
      ],
      "metadata": {
        "colab": {
          "base_uri": "https://localhost:8080/"
        },
        "id": "_fkbZclWiuNX",
        "outputId": "1182024d-256b-4257-f98d-186720e88971"
      },
      "execution_count": 28,
      "outputs": [
        {
          "output_type": "execute_result",
          "data": {
            "text/plain": [
              "True"
            ]
          },
          "metadata": {},
          "execution_count": 28
        }
      ]
    },
    {
      "cell_type": "markdown",
      "source": [
        "인덱싱 & 슬라이싱"
      ],
      "metadata": {
        "id": "UCCHAQo3jEkb"
      }
    },
    {
      "cell_type": "code",
      "source": [
        "a = [400,300,200]\n",
        "print(a[0])"
      ],
      "metadata": {
        "colab": {
          "base_uri": "https://localhost:8080/"
        },
        "id": "ZNFqyVPjjGhl",
        "outputId": "95b54de7-e04d-4998-c77c-cd8c139397f4"
      },
      "execution_count": 29,
      "outputs": [
        {
          "output_type": "stream",
          "name": "stdout",
          "text": [
            "400\n"
          ]
        }
      ]
    },
    {
      "cell_type": "code",
      "source": [
        "print(a[-1])"
      ],
      "metadata": {
        "colab": {
          "base_uri": "https://localhost:8080/"
        },
        "id": "BnkBRopVjJme",
        "outputId": "63879376-3b18-45b5-f274-fc94a6b909dd"
      },
      "execution_count": 30,
      "outputs": [
        {
          "output_type": "stream",
          "name": "stdout",
          "text": [
            "200\n"
          ]
        }
      ]
    },
    {
      "cell_type": "markdown",
      "source": [
        "중첩 리스트"
      ],
      "metadata": {
        "id": "lkDWQ27IjLlq"
      }
    },
    {
      "cell_type": "code",
      "source": [
        "my_list = [1,2,[\"variety\",'is','the','spice','of','life'],4,5]\n",
        "print(my_list)"
      ],
      "metadata": {
        "colab": {
          "base_uri": "https://localhost:8080/"
        },
        "id": "vNXWrag7jMj2",
        "outputId": "4fe194c7-5f58-435c-f57a-4db7061291a4"
      },
      "execution_count": 31,
      "outputs": [
        {
          "output_type": "stream",
          "name": "stdout",
          "text": [
            "[1, 2, ['variety', 'is', 'the', 'spice', 'of', 'life'], 4, 5]\n"
          ]
        }
      ]
    },
    {
      "cell_type": "code",
      "source": [
        "my_list[2][3:]"
      ],
      "metadata": {
        "colab": {
          "base_uri": "https://localhost:8080/"
        },
        "id": "jWJvxtEzjXJ_",
        "outputId": "8e54be3e-4184-4f90-84c9-81563a5d0b9a"
      },
      "execution_count": 32,
      "outputs": [
        {
          "output_type": "execute_result",
          "data": {
            "text/plain": [
              "['spice', 'of', 'life']"
            ]
          },
          "metadata": {},
          "execution_count": 32
        }
      ]
    },
    {
      "cell_type": "markdown",
      "source": [
        "리스트 주요 메서드"
      ],
      "metadata": {
        "id": "0ebiMmEFjeM8"
      }
    },
    {
      "cell_type": "code",
      "source": [
        "sample_texts = [\"I\",\"like\"]\n",
        "new_object  = sample_texts.append('your smile')\n",
        "print(new_object)"
      ],
      "metadata": {
        "colab": {
          "base_uri": "https://localhost:8080/"
        },
        "id": "xGb_C6Yujfe_",
        "outputId": "8f8bf795-6841-4f7a-ec47-a937bfb34298"
      },
      "execution_count": 33,
      "outputs": [
        {
          "output_type": "stream",
          "name": "stdout",
          "text": [
            "None\n"
          ]
        }
      ]
    },
    {
      "cell_type": "code",
      "source": [
        "sample_texts = [\"I\",\"like\"]\n",
        "sample_texts.append('your smile')\n",
        "print(sample_texts)"
      ],
      "metadata": {
        "colab": {
          "base_uri": "https://localhost:8080/"
        },
        "id": "IWf5KVdLjsQh",
        "outputId": "1f72bf7d-75c5-408a-f87d-66494f06aca8"
      },
      "execution_count": 34,
      "outputs": [
        {
          "output_type": "stream",
          "name": "stdout",
          "text": [
            "['I', 'like', 'your smile']\n"
          ]
        }
      ]
    },
    {
      "cell_type": "code",
      "source": [
        "nums = [0,1,3,4]\n",
        "nums.insert(2,2)\n",
        "print(nums)"
      ],
      "metadata": {
        "colab": {
          "base_uri": "https://localhost:8080/"
        },
        "id": "TLfXkdl7j20v",
        "outputId": "97067912-b5ed-4d54-cf2c-2424ca602b35"
      },
      "execution_count": 35,
      "outputs": [
        {
          "output_type": "stream",
          "name": "stdout",
          "text": [
            "[0, 1, 2, 3, 4]\n"
          ]
        }
      ]
    },
    {
      "cell_type": "code",
      "source": [
        "letter = [\"you\",\"are\",\"my\",\"friend\"]\n",
        "letter[3] = \"everything\"\n",
        "print(letter)"
      ],
      "metadata": {
        "colab": {
          "base_uri": "https://localhost:8080/"
        },
        "id": "n36A3Ifpj9D5",
        "outputId": "38677ef8-c85c-49e5-c47d-350629c3c55c"
      },
      "execution_count": 36,
      "outputs": [
        {
          "output_type": "stream",
          "name": "stdout",
          "text": [
            "['you', 'are', 'my', 'everything']\n"
          ]
        }
      ]
    },
    {
      "cell_type": "code",
      "source": [
        "letter = [\"you\",\"are\",\"my\",\"friend\"]\n",
        "letter.remove(\"are\")\n",
        "print(letter)"
      ],
      "metadata": {
        "colab": {
          "base_uri": "https://localhost:8080/"
        },
        "id": "gEXR_XXqkH4H",
        "outputId": "ec176697-14c1-4db9-ec3e-e33205dbbf7a"
      },
      "execution_count": 37,
      "outputs": [
        {
          "output_type": "stream",
          "name": "stdout",
          "text": [
            "['you', 'my', 'friend']\n"
          ]
        }
      ]
    },
    {
      "cell_type": "code",
      "source": [
        "nums = [3,1,2,5,6]\n",
        "nums.sort()\n",
        "print(nums)"
      ],
      "metadata": {
        "colab": {
          "base_uri": "https://localhost:8080/"
        },
        "id": "sY5N3dYCkQ5J",
        "outputId": "8ba7b93c-f669-4a7d-e922-de348cd8833d"
      },
      "execution_count": 39,
      "outputs": [
        {
          "output_type": "stream",
          "name": "stdout",
          "text": [
            "[1, 2, 3, 5, 6]\n"
          ]
        }
      ]
    },
    {
      "cell_type": "code",
      "source": [
        "nums = [3,1,2,5,6]\n",
        "nums.sort(reverse=True)\n",
        "print(nums)"
      ],
      "metadata": {
        "colab": {
          "base_uri": "https://localhost:8080/"
        },
        "id": "-1l33jkrkViw",
        "outputId": "c66e6ba1-f94e-4732-80fe-94c0298b2a32"
      },
      "execution_count": 38,
      "outputs": [
        {
          "output_type": "stream",
          "name": "stdout",
          "text": [
            "[6, 5, 3, 2, 1]\n"
          ]
        }
      ]
    },
    {
      "cell_type": "markdown",
      "source": [],
      "metadata": {
        "id": "_qeYPWuskZnK"
      }
    },
    {
      "cell_type": "markdown",
      "source": [
        "튜플"
      ],
      "metadata": {
        "id": "q_Lhikm7kaAS"
      }
    },
    {
      "cell_type": "code",
      "source": [
        "my_tuple = {\"Hi\",1,3,12}\n",
        "print(my_tuple)"
      ],
      "metadata": {
        "colab": {
          "base_uri": "https://localhost:8080/"
        },
        "id": "ekX8m8wmkatQ",
        "outputId": "c908a287-7072-4482-c1e1-26a51013aebb"
      },
      "execution_count": 40,
      "outputs": [
        {
          "output_type": "stream",
          "name": "stdout",
          "text": [
            "{'Hi', 3, 12, 1}\n"
          ]
        }
      ]
    },
    {
      "cell_type": "code",
      "source": [
        "my_nested_tuple = (\"Hi\", (1, 2, 3), (3.12, 1.23, 4.21))\n",
        "print(my_nested_tuple[2][2])"
      ],
      "metadata": {
        "colab": {
          "base_uri": "https://localhost:8080/"
        },
        "id": "Nn8x1-nUkfkP",
        "outputId": "2ccc6fbb-df87-44c8-8267-9e377ede209b"
      },
      "execution_count": 42,
      "outputs": [
        {
          "output_type": "stream",
          "name": "stdout",
          "text": [
            "4.21\n"
          ]
        }
      ]
    },
    {
      "cell_type": "code",
      "source": [
        "del my_list[0]\n",
        "print(my_list)"
      ],
      "metadata": {
        "colab": {
          "base_uri": "https://localhost:8080/"
        },
        "id": "rZlOLpQWk2d1",
        "outputId": "b3b00ec1-3c02-4742-b7a1-c8a6cc723198"
      },
      "execution_count": 43,
      "outputs": [
        {
          "output_type": "stream",
          "name": "stdout",
          "text": [
            "[2, ['variety', 'is', 'the', 'spice', 'of', 'life'], 4, 5]\n"
          ]
        }
      ]
    },
    {
      "cell_type": "code",
      "source": [
        "my_tuple = (\"hi\",1,3,12)\n",
        "#my_tuple[0] = 0\n",
        "del my_tuple[0]"
      ],
      "metadata": {
        "colab": {
          "base_uri": "https://localhost:8080/",
          "height": 180
        },
        "id": "8KGZTjxmk66d",
        "outputId": "dffee807-d26e-474b-e2e6-2ed48808bdbf"
      },
      "execution_count": 45,
      "outputs": [
        {
          "output_type": "error",
          "ename": "TypeError",
          "evalue": "'tuple' object doesn't support item deletion",
          "traceback": [
            "\u001b[0;31m---------------------------------------------------------------------------\u001b[0m",
            "\u001b[0;31mTypeError\u001b[0m                                 Traceback (most recent call last)",
            "\u001b[0;32m/tmp/ipython-input-45-3090368883.py\u001b[0m in \u001b[0;36m<cell line: 0>\u001b[0;34m()\u001b[0m\n\u001b[1;32m      1\u001b[0m \u001b[0mmy_tuple\u001b[0m \u001b[0;34m=\u001b[0m \u001b[0;34m(\u001b[0m\u001b[0;34m\"hi\"\u001b[0m\u001b[0;34m,\u001b[0m\u001b[0;36m1\u001b[0m\u001b[0;34m,\u001b[0m\u001b[0;36m3\u001b[0m\u001b[0;34m,\u001b[0m\u001b[0;36m12\u001b[0m\u001b[0;34m)\u001b[0m\u001b[0;34m\u001b[0m\u001b[0;34m\u001b[0m\u001b[0m\n\u001b[1;32m      2\u001b[0m \u001b[0;31m#my_tuple[0] = 0\u001b[0m\u001b[0;34m\u001b[0m\u001b[0;34m\u001b[0m\u001b[0m\n\u001b[0;32m----> 3\u001b[0;31m \u001b[0;32mdel\u001b[0m \u001b[0mmy_tuple\u001b[0m\u001b[0;34m[\u001b[0m\u001b[0;36m0\u001b[0m\u001b[0;34m]\u001b[0m\u001b[0;34m\u001b[0m\u001b[0;34m\u001b[0m\u001b[0m\n\u001b[0m",
            "\u001b[0;31mTypeError\u001b[0m: 'tuple' object doesn't support item deletion"
          ]
        }
      ]
    },
    {
      "cell_type": "code",
      "source": [
        "my_tuple = (\"Love\",\"Love\",\"Love\",\"Hate\",\"Love\",\"Love\")\n",
        "print(my_tuple.count(\"Love\"))\n",
        "print(my_tuple.index(\"Hate\"))"
      ],
      "metadata": {
        "colab": {
          "base_uri": "https://localhost:8080/"
        },
        "id": "y-AMsHMzlFRv",
        "outputId": "b46dc90c-b8f3-4af7-e8cf-fcc36ffc94cf"
      },
      "execution_count": 46,
      "outputs": [
        {
          "output_type": "stream",
          "name": "stdout",
          "text": [
            "5\n",
            "3\n"
          ]
        }
      ]
    },
    {
      "cell_type": "markdown",
      "source": [
        "딕셔너리"
      ],
      "metadata": {
        "id": "GLuRvNmGlY8k"
      }
    },
    {
      "cell_type": "code",
      "source": [
        "my_dict = {'name':'evan',\n",
        "           'age':20,\n",
        "           'shoping': [1,2,3]\n",
        "          }\n",
        "print(my_dict)\n",
        "print(type(my_dict))"
      ],
      "metadata": {
        "colab": {
          "base_uri": "https://localhost:8080/"
        },
        "id": "CKMr3B3UlaFw",
        "outputId": "f0189e65-0fbe-4811-f828-7d4055244e03"
      },
      "execution_count": 47,
      "outputs": [
        {
          "output_type": "stream",
          "name": "stdout",
          "text": [
            "{'name': 'evan', 'age': 20, 'shoping': [1, 2, 3]}\n",
            "<class 'dict'>\n"
          ]
        }
      ]
    },
    {
      "cell_type": "code",
      "source": [
        "print(my_dict['name'])"
      ],
      "metadata": {
        "colab": {
          "base_uri": "https://localhost:8080/"
        },
        "id": "z5JfuIk7lmhT",
        "outputId": "965ce23f-20d2-4269-a422-bd98588665c4"
      },
      "execution_count": 49,
      "outputs": [
        {
          "output_type": "stream",
          "name": "stdout",
          "text": [
            "evan\n"
          ]
        }
      ]
    },
    {
      "cell_type": "code",
      "source": [
        "my_dict['country'] = '대한민국'\n",
        "print(my_dict)"
      ],
      "metadata": {
        "colab": {
          "base_uri": "https://localhost:8080/"
        },
        "id": "oojtZdBylsAY",
        "outputId": "0b524155-6f82-4973-d877-dc27a7a32c8f"
      },
      "execution_count": 50,
      "outputs": [
        {
          "output_type": "stream",
          "name": "stdout",
          "text": [
            "{'name': 'evan', 'age': 20, 'shoping': [1, 2, 3], 'country': '대한민국'}\n"
          ]
        }
      ]
    },
    {
      "cell_type": "code",
      "source": [
        "my_dict['shoping'] = '가방'\n",
        "print(my_dict)"
      ],
      "metadata": {
        "colab": {
          "base_uri": "https://localhost:8080/"
        },
        "id": "kZfBebHulyra",
        "outputId": "df72c0e8-f1bd-49bf-9a9e-875664f499e4"
      },
      "execution_count": 51,
      "outputs": [
        {
          "output_type": "stream",
          "name": "stdout",
          "text": [
            "{'name': 'evan', 'age': 20, 'shoping': '가방', 'country': '대한민국'}\n"
          ]
        }
      ]
    },
    {
      "cell_type": "code",
      "source": [
        "del my_dict['shoping']\n",
        "print(my_dict)"
      ],
      "metadata": {
        "colab": {
          "base_uri": "https://localhost:8080/"
        },
        "id": "BT5KiLdwl4n4",
        "outputId": "3f6da3a1-3d3a-4609-d1b4-62acd496db5d"
      },
      "execution_count": 52,
      "outputs": [
        {
          "output_type": "stream",
          "name": "stdout",
          "text": [
            "{'name': 'evan', 'age': 20, 'country': '대한민국'}\n"
          ]
        }
      ]
    },
    {
      "cell_type": "markdown",
      "source": [
        "조건문"
      ],
      "metadata": {
        "id": "MJ5jm95smAnl"
      }
    },
    {
      "cell_type": "code",
      "source": [
        "a = 31\n",
        "b = 31\n",
        "if a > b:\n",
        "  print(\"a가 b보다 크거나 같다\")\n",
        "elif a == b:\n",
        "  print(\"같다\")\n",
        "else:\n",
        "  print('a가 b보다 작다')"
      ],
      "metadata": {
        "colab": {
          "base_uri": "https://localhost:8080/"
        },
        "id": "3Gs3p0ohmBcV",
        "outputId": "28bcd82c-f128-439d-cc82-e9371c8d3781"
      },
      "execution_count": 53,
      "outputs": [
        {
          "output_type": "stream",
          "name": "stdout",
          "text": [
            "같다\n"
          ]
        }
      ]
    },
    {
      "cell_type": "code",
      "source": [
        "my_string = \"Don't them in, don't let them see\"\n",
        "if \"let\" in my_string:\n",
        "  print(\"존재\")\n",
        "else:\n",
        "  print('x')"
      ],
      "metadata": {
        "colab": {
          "base_uri": "https://localhost:8080/"
        },
        "id": "ws8mdzb2mQVo",
        "outputId": "40cebc22-5d53-4794-950c-60219bd9483d"
      },
      "execution_count": 54,
      "outputs": [
        {
          "output_type": "stream",
          "name": "stdout",
          "text": [
            "존재\n"
          ]
        }
      ]
    },
    {
      "cell_type": "markdown",
      "source": [
        "for 문"
      ],
      "metadata": {
        "id": "wUxSlVelmffQ"
      }
    },
    {
      "cell_type": "code",
      "source": [
        "range(10)"
      ],
      "metadata": {
        "colab": {
          "base_uri": "https://localhost:8080/"
        },
        "id": "OVv51t7jmglj",
        "outputId": "c454f3c1-d8ce-4e98-b37b-e4c8174b857f"
      },
      "execution_count": 55,
      "outputs": [
        {
          "output_type": "execute_result",
          "data": {
            "text/plain": [
              "range(0, 10)"
            ]
          },
          "metadata": {},
          "execution_count": 55
        }
      ]
    },
    {
      "cell_type": "code",
      "source": [
        "for i in range(10):\n",
        "  print(str(i)+ \"번째 Hello World\")"
      ],
      "metadata": {
        "colab": {
          "base_uri": "https://localhost:8080/"
        },
        "id": "1ZNXW47wmiw8",
        "outputId": "92447e01-9e96-40ab-f66e-266b8c08c988"
      },
      "execution_count": 56,
      "outputs": [
        {
          "output_type": "stream",
          "name": "stdout",
          "text": [
            "0번째 Hello World\n",
            "1번째 Hello World\n",
            "2번째 Hello World\n",
            "3번째 Hello World\n",
            "4번째 Hello World\n",
            "5번째 Hello World\n",
            "6번째 Hello World\n",
            "7번째 Hello World\n",
            "8번째 Hello World\n",
            "9번째 Hello World\n"
          ]
        }
      ]
    },
    {
      "cell_type": "code",
      "source": [
        "num_lists = [10,20,30]\n",
        "for num in num_lists:\n",
        "  print(num)"
      ],
      "metadata": {
        "colab": {
          "base_uri": "https://localhost:8080/"
        },
        "id": "Tq2EyjormrHx",
        "outputId": "e1835ad6-458d-4628-b129-246b5f058ac0"
      },
      "execution_count": 57,
      "outputs": [
        {
          "output_type": "stream",
          "name": "stdout",
          "text": [
            "10\n",
            "20\n",
            "30\n"
          ]
        }
      ]
    },
    {
      "cell_type": "code",
      "source": [
        "prices = [1,2,3.4,2.5]\n",
        "total_sales = [100,80,90]\n",
        "for sales, price in zip(total_sales,prices):\n",
        "  revenue = sales * price\n",
        "  print(f'매출액 : {revenue}')"
      ],
      "metadata": {
        "colab": {
          "base_uri": "https://localhost:8080/"
        },
        "id": "tV7JRWWxm2YW",
        "outputId": "e3c01ab6-141b-4a47-da9d-3378de65d033"
      },
      "execution_count": 59,
      "outputs": [
        {
          "output_type": "stream",
          "name": "stdout",
          "text": [
            "매출액 : 100\n",
            "매출액 : 160\n",
            "매출액 : 306.0\n"
          ]
        }
      ]
    },
    {
      "cell_type": "markdown",
      "source": [
        "  While 문"
      ],
      "metadata": {
        "id": "RmjSeBsYnvXO"
      }
    },
    {
      "cell_type": "code",
      "source": [
        "while True:\n",
        "  print('무한 반복')"
      ],
      "metadata": {
        "id": "GxTzrm3snxQz"
      },
      "execution_count": null,
      "outputs": []
    },
    {
      "cell_type": "code",
      "source": [
        "while False:\n",
        "  print('무한 반복')"
      ],
      "metadata": {
        "id": "IytO0l51n01o"
      },
      "execution_count": 60,
      "outputs": []
    },
    {
      "cell_type": "code",
      "source": [
        "i = 1\n",
        "while i<=10:\n",
        "  print(str(i)+ \"번쨰 안녕하세요!\")\n",
        "  i+=1"
      ],
      "metadata": {
        "colab": {
          "base_uri": "https://localhost:8080/"
        },
        "id": "jpa0uNGfn6td",
        "outputId": "0ebd93a6-cfb6-4aed-be54-d5bfe8f2eab8"
      },
      "execution_count": 61,
      "outputs": [
        {
          "output_type": "stream",
          "name": "stdout",
          "text": [
            "1번쨰 안녕하세요!\n",
            "2번쨰 안녕하세요!\n",
            "3번쨰 안녕하세요!\n",
            "4번쨰 안녕하세요!\n",
            "5번쨰 안녕하세요!\n",
            "6번쨰 안녕하세요!\n",
            "7번쨰 안녕하세요!\n",
            "8번쨰 안녕하세요!\n",
            "9번쨰 안녕하세요!\n",
            "10번쨰 안녕하세요!\n"
          ]
        }
      ]
    },
    {
      "cell_type": "markdown",
      "source": [
        "사용자 정의 함수"
      ],
      "metadata": {
        "id": "JgYxgCstoAi-"
      }
    },
    {
      "cell_type": "code",
      "source": [
        "def addition(num1,num2):\n",
        "  result = num1 + num2\n",
        "  return result"
      ],
      "metadata": {
        "id": "4cvS3WyqoFVa"
      },
      "execution_count": 62,
      "outputs": []
    },
    {
      "cell_type": "code",
      "source": [
        "temp = addition(10,20)\n",
        "print(temp)"
      ],
      "metadata": {
        "colab": {
          "base_uri": "https://localhost:8080/"
        },
        "id": "RfI0-8BOoNEc",
        "outputId": "c2500c73-a8de-4b46-ea80-f51b51cbc599"
      },
      "execution_count": 64,
      "outputs": [
        {
          "output_type": "stream",
          "name": "stdout",
          "text": [
            "30\n"
          ]
        }
      ]
    },
    {
      "cell_type": "code",
      "source": [
        "def addition2(num1,num2):\n",
        "  result = num1 + num2\n",
        "  print(result)"
      ],
      "metadata": {
        "id": "T2bDe_dPoX8f"
      },
      "execution_count": 66,
      "outputs": []
    },
    {
      "cell_type": "code",
      "source": [
        "addition2(10,20)"
      ],
      "metadata": {
        "colab": {
          "base_uri": "https://localhost:8080/"
        },
        "id": "M5mGWrY1oZ7c",
        "outputId": "5410bbf3-8f9b-4915-d0b8-9d2008ed4203"
      },
      "execution_count": 67,
      "outputs": [
        {
          "output_type": "stream",
          "name": "stdout",
          "text": [
            "30\n"
          ]
        }
      ]
    }
  ]
}