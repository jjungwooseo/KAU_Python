{
  "nbformat": 4,
  "nbformat_minor": 0,
  "metadata": {
    "colab": {
      "provenance": [],
      "authorship_tag": "ABX9TyMNZySOuHyfAbh38Pf/SyIv",
      "include_colab_link": true
    },
    "kernelspec": {
      "name": "python3",
      "display_name": "Python 3"
    },
    "language_info": {
      "name": "python"
    }
  },
  "cells": [
    {
      "cell_type": "markdown",
      "metadata": {
        "id": "view-in-github",
        "colab_type": "text"
      },
      "source": [
        "<a href=\"https://colab.research.google.com/github/jjungwooseo/KAU_Python/blob/main/Python_KAU_2day.ipynb\" target=\"_parent\"><img src=\"https://colab.research.google.com/assets/colab-badge.svg\" alt=\"Open In Colab\"/></a>"
      ]
    },
    {
      "cell_type": "code",
      "execution_count": 1,
      "metadata": {
        "id": "1MtGNZRWa2W4",
        "colab": {
          "base_uri": "https://localhost:8080/"
        },
        "outputId": "6ac62c4c-24cb-4c28-c890-dfa300633598"
      },
      "outputs": [
        {
          "output_type": "stream",
          "name": "stdout",
          "text": [
            "<class 'int'> <class 'str'> <class 'float'> <class 'bool'> <class 'int'>\n"
          ]
        }
      ],
      "source": [
        "a = 1\n",
        "b = \"1\"\n",
        "c = 1.1\n",
        "d = True\n",
        "e = 999999999999999999999\n",
        "print(type(a),type(b),type(c),type(d),type(e))"
      ]
    },
    {
      "cell_type": "code",
      "source": [
        "a = \"안녕\"\n",
        "b = \"하세요\"\n",
        "print(a+b)"
      ],
      "metadata": {
        "colab": {
          "base_uri": "https://localhost:8080/"
        },
        "id": "5xfXvZu1dXfG",
        "outputId": "07e38843-08dd-43c2-a179-2bc3dae79ec8"
      },
      "execution_count": 2,
      "outputs": [
        {
          "output_type": "stream",
          "name": "stdout",
          "text": [
            "안녕하세요\n"
          ]
        }
      ]
    },
    {
      "cell_type": "code",
      "source": [
        "a = [1,2,3]\n",
        "b = [4,5,6]\n",
        "print(a+b)\n",
        "a = 1\n",
        "b = 2\n",
        "print(a+b)"
      ],
      "metadata": {
        "colab": {
          "base_uri": "https://localhost:8080/"
        },
        "id": "HPe-hFsMdefg",
        "outputId": "b92a6d36-acdf-43f2-bd0e-6ed9edddf047"
      },
      "execution_count": 10,
      "outputs": [
        {
          "output_type": "stream",
          "name": "stdout",
          "text": [
            "[1, 2, 3, 4, 5, 6]\n",
            "3\n"
          ]
        }
      ]
    },
    {
      "cell_type": "code",
      "source": [
        "a = [1,\"문자\",1+4j,[12,3]]\n",
        "print(a)"
      ],
      "metadata": {
        "colab": {
          "base_uri": "https://localhost:8080/"
        },
        "id": "qjB_OzyBdlc6",
        "outputId": "7ae2e2e9-9bb8-4c39-c394-9e04293a3172"
      },
      "execution_count": 13,
      "outputs": [
        {
          "output_type": "stream",
          "name": "stdout",
          "text": [
            "[1, '문자', (1+4j), [12, 3]]\n"
          ]
        }
      ]
    },
    {
      "cell_type": "code",
      "source": [
        "a = 1\n",
        "b = 1\n",
        "type(a),type(b)"
      ],
      "metadata": {
        "colab": {
          "base_uri": "https://localhost:8080/"
        },
        "id": "qmpQ1nO-duH3",
        "outputId": "6782d60a-e2e9-480d-dfd6-0fdede8dfada"
      },
      "execution_count": 14,
      "outputs": [
        {
          "output_type": "execute_result",
          "data": {
            "text/plain": [
              "(int, int)"
            ]
          },
          "metadata": {},
          "execution_count": 14
        }
      ]
    },
    {
      "cell_type": "code",
      "source": [
        "a = \"He\"\n",
        "b = \"llo\"\n",
        "print(a+b)"
      ],
      "metadata": {
        "colab": {
          "base_uri": "https://localhost:8080/"
        },
        "id": "tmUp2LyZeCFv",
        "outputId": "27a48b26-4605-42c4-a44f-e1883ef7fdd4"
      },
      "execution_count": 15,
      "outputs": [
        {
          "output_type": "stream",
          "name": "stdout",
          "text": [
            "Hello\n"
          ]
        }
      ]
    },
    {
      "cell_type": "code",
      "source": [
        "A = 123\n",
        "a = 456\n",
        "#a_ = 2019\n",
        "#a& = 2019\n",
        "#a* = 2019\n",
        "#a@ = 2019\n",
        "# True = 1\n",
        "print(A,a)"
      ],
      "metadata": {
        "colab": {
          "base_uri": "https://localhost:8080/"
        },
        "id": "RieZ0ic9eGyo",
        "outputId": "f3d41623-2fb4-44bb-ebfa-491b56aeecf3"
      },
      "execution_count": 22,
      "outputs": [
        {
          "output_type": "stream",
          "name": "stdout",
          "text": [
            "123 456\n"
          ]
        }
      ]
    },
    {
      "cell_type": "code",
      "source": [
        "input_num = input(\"숫자를 입력해주세요 :\")\n",
        "print(input_num)"
      ],
      "metadata": {
        "colab": {
          "base_uri": "https://localhost:8080/"
        },
        "id": "T0oFQlRCeLpl",
        "outputId": "14b507e0-b326-471f-fc1e-d593b2949177"
      },
      "execution_count": 23,
      "outputs": [
        {
          "output_type": "stream",
          "name": "stdout",
          "text": [
            "숫자를 입력해주세요 :11\n",
            "11\n"
          ]
        }
      ]
    },
    {
      "cell_type": "code",
      "source": [
        "a = input()\n",
        "print(type(a))"
      ],
      "metadata": {
        "colab": {
          "base_uri": "https://localhost:8080/"
        },
        "id": "QsLfFn_beuQJ",
        "outputId": "51d48157-6045-4e63-ace6-e0289af71330"
      },
      "execution_count": 24,
      "outputs": [
        {
          "output_type": "stream",
          "name": "stdout",
          "text": [
            "1111111.1\n",
            "<class 'str'>\n"
          ]
        }
      ]
    },
    {
      "cell_type": "code",
      "source": [
        "print(\"1+1\")\n",
        "print(1+1)"
      ],
      "metadata": {
        "colab": {
          "base_uri": "https://localhost:8080/"
        },
        "id": "31S7cijNex13",
        "outputId": "fd9b1618-84c0-4459-fd6f-77487816f667"
      },
      "execution_count": 25,
      "outputs": [
        {
          "output_type": "stream",
          "name": "stdout",
          "text": [
            "1+1\n",
            "2\n"
          ]
        }
      ]
    },
    {
      "cell_type": "code",
      "source": [
        "print(11111,\"안녕하세요\",345)\n",
        "print(11111,\"안녕하세요\",345,sep=\"@@\")\n",
        "print(11111,\"안녕하세요\",345,sep = \"\\n\")\n",
        "\n"
      ],
      "metadata": {
        "colab": {
          "base_uri": "https://localhost:8080/"
        },
        "id": "WAL8v6gDfDi0",
        "outputId": "11555919-e9f9-42ce-850c-1eb9f493bc98"
      },
      "execution_count": 28,
      "outputs": [
        {
          "output_type": "stream",
          "name": "stdout",
          "text": [
            "11111 안녕하세요 345\n",
            "11111@@안녕하세요@@345\n",
            "11111\n",
            "안녕하세요\n",
            "345\n"
          ]
        }
      ]
    },
    {
      "cell_type": "code",
      "source": [
        "print(11)\n",
        "print()\n",
        "print(\"안녕하세요\")\n",
        "print(11,end=',,,')\n",
        "print(\"안녕하세요.\")"
      ],
      "metadata": {
        "colab": {
          "base_uri": "https://localhost:8080/"
        },
        "id": "ICr2iWpIfG9Q",
        "outputId": "699544ed-3075-42c0-a688-d72e33cb2d95"
      },
      "execution_count": 30,
      "outputs": [
        {
          "output_type": "stream",
          "name": "stdout",
          "text": [
            "11\n",
            "\n",
            "안녕하세요\n",
            "11,,,안녕하세요.\n"
          ]
        }
      ]
    },
    {
      "cell_type": "code",
      "source": [
        "'''\n",
        "주석\n",
        "'''\n",
        "print(1)\n",
        "a = 1+2\n",
        "print(a)"
      ],
      "metadata": {
        "colab": {
          "base_uri": "https://localhost:8080/"
        },
        "id": "5uICCHQIfQwp",
        "outputId": "57507ff2-ec6d-44bd-fe4e-499050b420a9"
      },
      "execution_count": 32,
      "outputs": [
        {
          "output_type": "stream",
          "name": "stdout",
          "text": [
            "1\n",
            "3\n"
          ]
        }
      ]
    },
    {
      "cell_type": "code",
      "source": [
        "a,b = 1,2\n",
        "print(a,b)\n",
        "a = b = 1\n",
        "print(a,b)"
      ],
      "metadata": {
        "colab": {
          "base_uri": "https://localhost:8080/"
        },
        "id": "Q8Mwt4c4fd0Y",
        "outputId": "3489d0a9-451e-40eb-b362-8b75edb9dfcc"
      },
      "execution_count": 33,
      "outputs": [
        {
          "output_type": "stream",
          "name": "stdout",
          "text": [
            "1 2\n",
            "1 1\n"
          ]
        }
      ]
    },
    {
      "cell_type": "code",
      "source": [
        "a = 1; b = 2; c = 3\n",
        "print(a,b,c)"
      ],
      "metadata": {
        "colab": {
          "base_uri": "https://localhost:8080/"
        },
        "id": "dfFqtcuBfmBd",
        "outputId": "6566598f-206e-4455-ce9c-f11cec2a6388"
      },
      "execution_count": 34,
      "outputs": [
        {
          "output_type": "stream",
          "name": "stdout",
          "text": [
            "1 2 3\n"
          ]
        }
      ]
    },
    {
      "cell_type": "code",
      "source": [
        "a ,b = b , a\n",
        "print(a,b)"
      ],
      "metadata": {
        "colab": {
          "base_uri": "https://localhost:8080/"
        },
        "id": "tu7IDkiTfsp5",
        "outputId": "f45d4137-eb46-41f4-9bf2-380efdd492f1"
      },
      "execution_count": 35,
      "outputs": [
        {
          "output_type": "stream",
          "name": "stdout",
          "text": [
            "2 1\n"
          ]
        }
      ]
    },
    {
      "cell_type": "code",
      "source": [
        "a = 1\n",
        "print(a)\n",
        "a+=10\n",
        "print(a)\n",
        "a-=5\n",
        "print(a)"
      ],
      "metadata": {
        "colab": {
          "base_uri": "https://localhost:8080/"
        },
        "id": "Om2RfvSMgCj1",
        "outputId": "42c7202d-8fb3-48d0-f186-3eb1851f17b1"
      },
      "execution_count": 36,
      "outputs": [
        {
          "output_type": "stream",
          "name": "stdout",
          "text": [
            "1\n",
            "11\n",
            "6\n"
          ]
        }
      ]
    },
    {
      "cell_type": "code",
      "source": [
        "b = 2; c = 3\n",
        "a = b+c\n",
        "print(a)"
      ],
      "metadata": {
        "colab": {
          "base_uri": "https://localhost:8080/"
        },
        "id": "9oE3s8vzgGig",
        "outputId": "8c0ab81d-1480-4d7e-8155-332502ae9b55"
      },
      "execution_count": 37,
      "outputs": [
        {
          "output_type": "stream",
          "name": "stdout",
          "text": [
            "5\n"
          ]
        }
      ]
    },
    {
      "cell_type": "code",
      "source": [
        "import keyword\n",
        "print(keyword.kwlist)"
      ],
      "metadata": {
        "colab": {
          "base_uri": "https://localhost:8080/"
        },
        "id": "drQpifhRgLMb",
        "outputId": "79b665c0-d479-44c8-fd02-128503123d23"
      },
      "execution_count": 38,
      "outputs": [
        {
          "output_type": "stream",
          "name": "stdout",
          "text": [
            "['False', 'None', 'True', 'and', 'as', 'assert', 'async', 'await', 'break', 'class', 'continue', 'def', 'del', 'elif', 'else', 'except', 'finally', 'for', 'from', 'global', 'if', 'import', 'in', 'is', 'lambda', 'nonlocal', 'not', 'or', 'pass', 'raise', 'return', 'try', 'while', 'with', 'yield']\n"
          ]
        }
      ]
    },
    {
      "cell_type": "code",
      "source": [
        "a = 1+4j\n",
        "print(type(a))"
      ],
      "metadata": {
        "colab": {
          "base_uri": "https://localhost:8080/"
        },
        "id": "PpAW6ZnEgTwr",
        "outputId": "60a55e14-09a7-402d-bdb2-93ed0e60c734"
      },
      "execution_count": 39,
      "outputs": [
        {
          "output_type": "stream",
          "name": "stdout",
          "text": [
            "<class 'complex'>\n"
          ]
        }
      ]
    },
    {
      "cell_type": "code",
      "source": [
        "a = '1234'\n",
        "print(len(a))\n",
        "a = [1,2,3,4,5]\n",
        "print(len(a),max(a),min(a))"
      ],
      "metadata": {
        "colab": {
          "base_uri": "https://localhost:8080/"
        },
        "id": "TWZgs_N1gX-y",
        "outputId": "a6184a0a-e29f-43cf-c700-c66f1ece8dda"
      },
      "execution_count": 40,
      "outputs": [
        {
          "output_type": "stream",
          "name": "stdout",
          "text": [
            "4\n",
            "5 5 1\n"
          ]
        }
      ]
    },
    {
      "cell_type": "code",
      "source": [
        "b = 2e-4\n",
        "print(type(b),b)"
      ],
      "metadata": {
        "colab": {
          "base_uri": "https://localhost:8080/"
        },
        "id": "Qgv_W416gfyD",
        "outputId": "4cf2dd24-7ca5-4eb8-c8d0-9a1c9b86c986"
      },
      "execution_count": 41,
      "outputs": [
        {
          "output_type": "stream",
          "name": "stdout",
          "text": [
            "<class 'float'> 0.0002\n"
          ]
        }
      ]
    },
    {
      "cell_type": "code",
      "source": [
        "c = 3e3\n",
        "print(type(c),c)"
      ],
      "metadata": {
        "colab": {
          "base_uri": "https://localhost:8080/"
        },
        "id": "06l6uIShoZ0m",
        "outputId": "e7a8282d-31e7-4022-fb5c-b94bed4e6d13"
      },
      "execution_count": 42,
      "outputs": [
        {
          "output_type": "stream",
          "name": "stdout",
          "text": [
            "<class 'float'> 3000.0\n"
          ]
        }
      ]
    },
    {
      "cell_type": "code",
      "source": [
        "a = 10+2j\n",
        "print(type(a))\n",
        "print(a)"
      ],
      "metadata": {
        "colab": {
          "base_uri": "https://localhost:8080/"
        },
        "id": "IOGFM1yCocwg",
        "outputId": "4f0ac364-f4dd-4a84-8e65-4e6b48b40ac1"
      },
      "execution_count": 43,
      "outputs": [
        {
          "output_type": "stream",
          "name": "stdout",
          "text": [
            "<class 'complex'>\n",
            "(10+2j)\n"
          ]
        }
      ]
    },
    {
      "cell_type": "code",
      "source": [
        "b = 5-4j\n",
        "print(type(b))\n",
        "print(b)"
      ],
      "metadata": {
        "colab": {
          "base_uri": "https://localhost:8080/"
        },
        "id": "8_O7VJqQogH9",
        "outputId": "e9f4aa61-4091-4ef2-8f0e-6422db98d07c"
      },
      "execution_count": 45,
      "outputs": [
        {
          "output_type": "stream",
          "name": "stdout",
          "text": [
            "<class 'complex'>\n",
            "(5-4j)\n"
          ]
        }
      ]
    },
    {
      "cell_type": "code",
      "source": [
        "a = '1'\n",
        "print(type(a),a)"
      ],
      "metadata": {
        "colab": {
          "base_uri": "https://localhost:8080/"
        },
        "id": "pRgGl4gRojtK",
        "outputId": "9200596f-35b5-452e-a0df-e243c10da6f8"
      },
      "execution_count": 46,
      "outputs": [
        {
          "output_type": "stream",
          "name": "stdout",
          "text": [
            "<class 'str'> 1\n"
          ]
        }
      ]
    },
    {
      "cell_type": "code",
      "source": [
        "b = \"Hello, World!\"\n",
        "print(type(b),b)"
      ],
      "metadata": {
        "colab": {
          "base_uri": "https://localhost:8080/"
        },
        "id": "gaxHPks-onz_",
        "outputId": "7285f888-083a-462b-d72f-37046fd8dc4e"
      },
      "execution_count": 47,
      "outputs": [
        {
          "output_type": "stream",
          "name": "stdout",
          "text": [
            "<class 'str'> Hello, World!\n"
          ]
        }
      ]
    },
    {
      "cell_type": "code",
      "source": [
        "d = \"\\'안녕하세요\\\"\"\n",
        "print(d)"
      ],
      "metadata": {
        "colab": {
          "base_uri": "https://localhost:8080/"
        },
        "id": "XvcXD1Ohotbe",
        "outputId": "3f464335-3f26-42fd-b05e-84e2c5b6a743"
      },
      "execution_count": 48,
      "outputs": [
        {
          "output_type": "stream",
          "name": "stdout",
          "text": [
            "'안녕하세요\"\n"
          ]
        }
      ]
    },
    {
      "cell_type": "code",
      "source": [
        "print(\"'안녕하세요'\")\n",
        "print('\"안녕하세요\"')"
      ],
      "metadata": {
        "colab": {
          "base_uri": "https://localhost:8080/"
        },
        "id": "QOXEaiULoy2v",
        "outputId": "51b2e120-cbf0-4f43-a505-f2624785c448"
      },
      "execution_count": 50,
      "outputs": [
        {
          "output_type": "stream",
          "name": "stdout",
          "text": [
            "'안녕하세요'\n",
            "\"안녕하세요\"\n"
          ]
        }
      ]
    },
    {
      "cell_type": "code",
      "source": [
        "print(5/3)"
      ],
      "metadata": {
        "colab": {
          "base_uri": "https://localhost:8080/"
        },
        "id": "7rwayYxuo6uG",
        "outputId": "2814e04d-8049-4fff-8c86-bfeb663c070b"
      },
      "execution_count": 51,
      "outputs": [
        {
          "output_type": "stream",
          "name": "stdout",
          "text": [
            "1.6666666666666667\n"
          ]
        }
      ]
    },
    {
      "cell_type": "code",
      "source": [
        "print(divmod(5,3))"
      ],
      "metadata": {
        "colab": {
          "base_uri": "https://localhost:8080/"
        },
        "id": "jyDuPtH_o_0S",
        "outputId": "817319ee-b6d5-4ed7-e0b3-e96c0aad29d0"
      },
      "execution_count": 52,
      "outputs": [
        {
          "output_type": "stream",
          "name": "stdout",
          "text": [
            "(1, 2)\n"
          ]
        }
      ]
    },
    {
      "cell_type": "code",
      "source": [
        "print(pow(5,3))"
      ],
      "metadata": {
        "colab": {
          "base_uri": "https://localhost:8080/"
        },
        "id": "akI0jbshpCUA",
        "outputId": "5d27b6c1-5554-419d-f694-ef5b8c16fe8d"
      },
      "execution_count": 53,
      "outputs": [
        {
          "output_type": "stream",
          "name": "stdout",
          "text": [
            "125\n"
          ]
        }
      ]
    },
    {
      "cell_type": "code",
      "source": [
        "a = 5\n",
        "a**=3\n",
        "print(a)"
      ],
      "metadata": {
        "colab": {
          "base_uri": "https://localhost:8080/"
        },
        "id": "3gPwapenpEMp",
        "outputId": "efdce3a8-32cb-4486-c76c-897fe5f06ec0"
      },
      "execution_count": 55,
      "outputs": [
        {
          "output_type": "stream",
          "name": "stdout",
          "text": [
            "125\n"
          ]
        }
      ]
    },
    {
      "cell_type": "code",
      "source": [
        "import math"
      ],
      "metadata": {
        "id": "a8JAibBTpGVz"
      },
      "execution_count": 56,
      "outputs": []
    },
    {
      "cell_type": "code",
      "source": [
        "print(math.log10(10))\n",
        "print(math.sqrt(8))"
      ],
      "metadata": {
        "colab": {
          "base_uri": "https://localhost:8080/"
        },
        "id": "RpxRJkcXpJ2O",
        "outputId": "7a333c87-f36b-4626-dc27-fd9d88bb2d17"
      },
      "execution_count": 57,
      "outputs": [
        {
          "output_type": "stream",
          "name": "stdout",
          "text": [
            "1.0\n",
            "2.8284271247461903\n"
          ]
        }
      ]
    },
    {
      "cell_type": "code",
      "source": [
        "a = '2'\n",
        "print(a*3)"
      ],
      "metadata": {
        "colab": {
          "base_uri": "https://localhost:8080/"
        },
        "id": "xN_7NaqnpNIc",
        "outputId": "50c1f3e4-9c9b-418c-e87d-db93e03a96a5"
      },
      "execution_count": 58,
      "outputs": [
        {
          "output_type": "stream",
          "name": "stdout",
          "text": [
            "222\n"
          ]
        }
      ]
    },
    {
      "cell_type": "code",
      "source": [
        "print('안녕하세요'*3)"
      ],
      "metadata": {
        "colab": {
          "base_uri": "https://localhost:8080/"
        },
        "id": "Gsg_XZBfpQ7O",
        "outputId": "e4469e59-f13d-41b4-af4d-83d9c892b745"
      },
      "execution_count": 61,
      "outputs": [
        {
          "output_type": "stream",
          "name": "stdout",
          "text": [
            "안녕하세요안녕하세요안녕하세요\n"
          ]
        }
      ]
    },
    {
      "cell_type": "code",
      "source": [
        "a = '안녕하세요'\n",
        "print(a[0])\n",
        "print(a[-1])\n",
        "print(a[1:3])\n",
        "print(a[0:5:2])"
      ],
      "metadata": {
        "colab": {
          "base_uri": "https://localhost:8080/"
        },
        "id": "EQOyxN6DpZOQ",
        "outputId": "1a9cb042-c921-4f3f-8e3b-2a67e6484550"
      },
      "execution_count": 66,
      "outputs": [
        {
          "output_type": "stream",
          "name": "stdout",
          "text": [
            "안\n",
            "요\n",
            "녕하\n",
            "안하요\n"
          ]
        }
      ]
    },
    {
      "cell_type": "code",
      "source": [
        "l = list()\n",
        "print(l,type(l))"
      ],
      "metadata": {
        "colab": {
          "base_uri": "https://localhost:8080/"
        },
        "id": "Lv9AeNQ5pbVX",
        "outputId": "0d6dc57a-29bb-4307-e151-2947f787fd30"
      },
      "execution_count": 68,
      "outputs": [
        {
          "output_type": "stream",
          "name": "stdout",
          "text": [
            "[] <class 'list'>\n"
          ]
        }
      ]
    },
    {
      "cell_type": "code",
      "source": [
        "l = [1,2,3]\n",
        "print(type(l),l)"
      ],
      "metadata": {
        "colab": {
          "base_uri": "https://localhost:8080/"
        },
        "id": "ED0w1oArprc1",
        "outputId": "2ceaaba5-09de-45a3-dfd1-23c940612184"
      },
      "execution_count": 69,
      "outputs": [
        {
          "output_type": "stream",
          "name": "stdout",
          "text": [
            "<class 'list'> [1, 2, 3]\n"
          ]
        }
      ]
    },
    {
      "cell_type": "code",
      "source": [
        "l  = [1,2,3,4,5,6,7,8,9]\n",
        "print(l[0])\n",
        "print(l[0:4])\n",
        "print(l[5])\n",
        "print(l[len(l)-1])\n",
        "l[0] = 99\n",
        "print(l)\n",
        "l[1] = [1,2,3]\n",
        "l[2] = \"문자\"\n",
        "print(l)"
      ],
      "metadata": {
        "colab": {
          "base_uri": "https://localhost:8080/"
        },
        "id": "hb8rTqR5pxEd",
        "outputId": "af298681-44a0-4703-be57-9612b25d6646"
      },
      "execution_count": 73,
      "outputs": [
        {
          "output_type": "stream",
          "name": "stdout",
          "text": [
            "1\n",
            "[1, 2, 3, 4]\n",
            "6\n",
            "9\n",
            "[99, 2, 3, 4, 5, 6, 7, 8, 9]\n",
            "[99, [1, 2, 3], '문자', 4, 5, 6, 7, 8, 9]\n"
          ]
        }
      ]
    },
    {
      "cell_type": "code",
      "source": [
        "l = [1,2,3,4,5]\n",
        "print(l)\n",
        "l.append(6)\n",
        "print(l)"
      ],
      "metadata": {
        "colab": {
          "base_uri": "https://localhost:8080/"
        },
        "id": "54XyxVsvp7V4",
        "outputId": "3f962fe7-671e-46ef-e09d-a933875badea"
      },
      "execution_count": 74,
      "outputs": [
        {
          "output_type": "stream",
          "name": "stdout",
          "text": [
            "[1, 2, 3, 4, 5]\n",
            "[1, 2, 3, 4, 5, 6]\n"
          ]
        }
      ]
    },
    {
      "cell_type": "code",
      "source": [
        "l = ['a','b','c','d']\n",
        "print(l)\n",
        "l.remove('b')\n",
        "print(l)"
      ],
      "metadata": {
        "colab": {
          "base_uri": "https://localhost:8080/"
        },
        "id": "MSsFSrPjqMRj",
        "outputId": "c4d735a0-98c1-45c5-c518-831f33588511"
      },
      "execution_count": 75,
      "outputs": [
        {
          "output_type": "stream",
          "name": "stdout",
          "text": [
            "['a', 'b', 'c', 'd']\n",
            "['a', 'c', 'd']\n"
          ]
        }
      ]
    },
    {
      "cell_type": "code",
      "source": [
        "t = tuple()\n",
        "print(t,type(t))"
      ],
      "metadata": {
        "colab": {
          "base_uri": "https://localhost:8080/"
        },
        "id": "U4NT442ZqRO8",
        "outputId": "229196e7-cdcf-4bfa-8270-cd50135670cf"
      },
      "execution_count": 76,
      "outputs": [
        {
          "output_type": "stream",
          "name": "stdout",
          "text": [
            "() <class 'tuple'>\n"
          ]
        }
      ]
    },
    {
      "cell_type": "code",
      "source": [
        "t = (1,2,3)\n",
        "print(t,type(t))"
      ],
      "metadata": {
        "colab": {
          "base_uri": "https://localhost:8080/"
        },
        "id": "za1V18PtqUca",
        "outputId": "11ee6959-21dc-4250-a350-15e5fb7f7b20"
      },
      "execution_count": 77,
      "outputs": [
        {
          "output_type": "stream",
          "name": "stdout",
          "text": [
            "(1, 2, 3) <class 'tuple'>\n"
          ]
        }
      ]
    },
    {
      "cell_type": "code",
      "source": [
        "l = [1,2,3]\n",
        "t = (1,2,3)\n",
        "print(l,type(l))\n",
        "print(t,type(t))\n",
        "print(l[0],l[0:2])\n",
        "print(t[0],t[0:2])\n",
        "print(l+l)\n",
        "print(t+t)"
      ],
      "metadata": {
        "colab": {
          "base_uri": "https://localhost:8080/"
        },
        "id": "fZehneTKqW2_",
        "outputId": "0a0b3266-800d-4771-f4a6-7474ceaf9f35"
      },
      "execution_count": 80,
      "outputs": [
        {
          "output_type": "stream",
          "name": "stdout",
          "text": [
            "[1, 2, 3] <class 'list'>\n",
            "(1, 2, 3) <class 'tuple'>\n",
            "1 [1, 2]\n",
            "1 (1, 2)\n",
            "[1, 2, 3, 1, 2, 3]\n",
            "(1, 2, 3, 1, 2, 3)\n"
          ]
        }
      ]
    },
    {
      "cell_type": "code",
      "source": [
        "d  = dict()\n",
        "print(d,type(d))"
      ],
      "metadata": {
        "colab": {
          "base_uri": "https://localhost:8080/"
        },
        "id": "k5sBgwczqb8_",
        "outputId": "30d88341-d4c9-429e-8f4d-d83e25e11f12"
      },
      "execution_count": 81,
      "outputs": [
        {
          "output_type": "stream",
          "name": "stdout",
          "text": [
            "{} <class 'dict'>\n"
          ]
        }
      ]
    },
    {
      "cell_type": "code",
      "source": [
        "d = {\n",
        "    'a':1,\n",
        "    'b':2,\n",
        "    'c':3\n",
        "}\n",
        "print(d,type(d))"
      ],
      "metadata": {
        "colab": {
          "base_uri": "https://localhost:8080/"
        },
        "id": "xpSRoqzoqqOC",
        "outputId": "78526f1c-da56-449a-cea4-3f152b8f88ac"
      },
      "execution_count": 82,
      "outputs": [
        {
          "output_type": "stream",
          "name": "stdout",
          "text": [
            "{'a': 1, 'b': 2, 'c': 3} <class 'dict'>\n"
          ]
        }
      ]
    },
    {
      "cell_type": "code",
      "source": [
        "d = {\n",
        "    1:1,\n",
        "    'a':[1,2,3],\n",
        "    (1,2):\"aaa\"\n",
        "}\n",
        "print(d)"
      ],
      "metadata": {
        "colab": {
          "base_uri": "https://localhost:8080/"
        },
        "id": "cWoTjkjlqu7y",
        "outputId": "4fb9bf33-b3f6-4787-bdc1-7f54fd6282b4"
      },
      "execution_count": 83,
      "outputs": [
        {
          "output_type": "stream",
          "name": "stdout",
          "text": [
            "{1: 1, 'a': [1, 2, 3], (1, 2): 'aaa'}\n"
          ]
        }
      ]
    },
    {
      "cell_type": "code",
      "source": [
        "d = {'a':1,'b':2}\n",
        "print(d)\n",
        "d['a'] = 2\n",
        "d['c'] = 3\n",
        "print(d)"
      ],
      "metadata": {
        "colab": {
          "base_uri": "https://localhost:8080/"
        },
        "id": "4Q08OZWpq17I",
        "outputId": "551a043c-9c38-4635-b555-ffc5d11c63a6"
      },
      "execution_count": 84,
      "outputs": [
        {
          "output_type": "stream",
          "name": "stdout",
          "text": [
            "{'a': 1, 'b': 2}\n",
            "{'a': 2, 'b': 2, 'c': 3}\n"
          ]
        }
      ]
    },
    {
      "cell_type": "code",
      "source": [
        "d = {\n",
        "    'a':1,\n",
        "    'b':2,\n",
        "    'c':3\n",
        "}\n",
        "print(d.keys())\n",
        "print(d.values())\n",
        "print(d.items())"
      ],
      "metadata": {
        "colab": {
          "base_uri": "https://localhost:8080/"
        },
        "id": "EsSU2i3urBhQ",
        "outputId": "28e2170d-fa20-4e45-a5fb-c7e61e671d9d"
      },
      "execution_count": 85,
      "outputs": [
        {
          "output_type": "stream",
          "name": "stdout",
          "text": [
            "dict_keys(['a', 'b', 'c'])\n",
            "dict_values([1, 2, 3])\n",
            "dict_items([('a', 1), ('b', 2), ('c', 3)])\n"
          ]
        }
      ]
    },
    {
      "cell_type": "code",
      "source": [
        "s = {1,2,3,4}\n",
        "print(s,type(s))"
      ],
      "metadata": {
        "colab": {
          "base_uri": "https://localhost:8080/"
        },
        "id": "LnKN48v7rLEl",
        "outputId": "174d341e-7496-49d9-b969-3c8ea3b3aa23"
      },
      "execution_count": 86,
      "outputs": [
        {
          "output_type": "stream",
          "name": "stdout",
          "text": [
            "{1, 2, 3, 4} <class 'set'>\n"
          ]
        }
      ]
    },
    {
      "cell_type": "code",
      "source": [
        "s = set(\"Hello\")\n",
        "print(s)"
      ],
      "metadata": {
        "colab": {
          "base_uri": "https://localhost:8080/"
        },
        "id": "KdXIIUA5rPwQ",
        "outputId": "2aba4444-670e-4d91-8ece-33dbe1deb69b"
      },
      "execution_count": 87,
      "outputs": [
        {
          "output_type": "stream",
          "name": "stdout",
          "text": [
            "{'o', 'e', 'H', 'l'}\n"
          ]
        }
      ]
    },
    {
      "cell_type": "code",
      "source": [
        "s1 = set([1,2,3,4,5,6])\n",
        "s2 = set([4,5,6,7,8,9])\n",
        "print(s1,s2)\n",
        "print(s1&s2)\n",
        "print(s1|s2)\n",
        "print(s1.union(s2))\n",
        "print(s1-s2)\n",
        "s1.add(10)\n",
        "print(s1)\n",
        "s1.update([11,12,13])\n",
        "print(s1)\n",
        "s1.remove(13)\n",
        "print(s1)"
      ],
      "metadata": {
        "colab": {
          "base_uri": "https://localhost:8080/"
        },
        "id": "kK03wjz9rTeA",
        "outputId": "727eaafc-c48a-4b78-fa24-c98f11de0822"
      },
      "execution_count": 95,
      "outputs": [
        {
          "output_type": "stream",
          "name": "stdout",
          "text": [
            "{1, 2, 3, 4, 5, 6} {4, 5, 6, 7, 8, 9}\n",
            "{4, 5, 6}\n",
            "{1, 2, 3, 4, 5, 6, 7, 8, 9}\n",
            "{1, 2, 3, 4, 5, 6, 7, 8, 9}\n",
            "{1, 2, 3}\n",
            "{1, 2, 3, 4, 5, 6, 10}\n",
            "{1, 2, 3, 4, 5, 6, 10, 11, 12, 13}\n",
            "{1, 2, 3, 4, 5, 6, 10, 11, 12}\n"
          ]
        }
      ]
    },
    {
      "cell_type": "code",
      "source": [
        "l = []\n",
        "print(type(l))"
      ],
      "metadata": {
        "colab": {
          "base_uri": "https://localhost:8080/"
        },
        "id": "v_YNnVcfrep9",
        "outputId": "d8a06a77-e47f-46c6-a34b-85c51bcf627d"
      },
      "execution_count": 96,
      "outputs": [
        {
          "output_type": "stream",
          "name": "stdout",
          "text": [
            "<class 'list'>\n"
          ]
        }
      ]
    },
    {
      "cell_type": "code",
      "source": [
        "l = [[1,2,3],[4,5,6],[7,8,9]]\n",
        "print(l)\n",
        "print(l[0])\n",
        "print(l[0][1])"
      ],
      "metadata": {
        "colab": {
          "base_uri": "https://localhost:8080/"
        },
        "id": "ERbvuTIcsFgr",
        "outputId": "24fe509e-f2d2-452b-8a00-b0f8ae1d78d0"
      },
      "execution_count": 98,
      "outputs": [
        {
          "output_type": "stream",
          "name": "stdout",
          "text": [
            "[[1, 2, 3], [4, 5, 6], [7, 8, 9]]\n",
            "[1, 2, 3]\n",
            "2\n"
          ]
        }
      ]
    },
    {
      "cell_type": "code",
      "source": [
        "l.insert(0,1)\n",
        "print(l)"
      ],
      "metadata": {
        "colab": {
          "base_uri": "https://localhost:8080/"
        },
        "id": "y-1-jbcGsKJM",
        "outputId": "ed2dbb38-5121-4d55-f50e-054154e5ba16"
      },
      "execution_count": 100,
      "outputs": [
        {
          "output_type": "stream",
          "name": "stdout",
          "text": [
            "[1, [1, 2, 3], [4, 5, 6], [7, 8, 9]]\n"
          ]
        }
      ]
    },
    {
      "cell_type": "code",
      "source": [
        "l.insert(4,'안녕하세요')\n",
        "print(l)"
      ],
      "metadata": {
        "colab": {
          "base_uri": "https://localhost:8080/"
        },
        "id": "5u8m7gQ2sXK9",
        "outputId": "fad25dae-6260-48ce-f7a3-680ab606673a"
      },
      "execution_count": 101,
      "outputs": [
        {
          "output_type": "stream",
          "name": "stdout",
          "text": [
            "[1, [1, 2, 3], [4, 5, 6], [7, 8, 9], '안녕하세요']\n"
          ]
        }
      ]
    },
    {
      "cell_type": "code",
      "source": [
        "l.pop()\n",
        "print(l)"
      ],
      "metadata": {
        "colab": {
          "base_uri": "https://localhost:8080/"
        },
        "id": "MjUzG9z9scFW",
        "outputId": "c191bcff-40fb-473c-fe33-3f203c29875d"
      },
      "execution_count": 102,
      "outputs": [
        {
          "output_type": "stream",
          "name": "stdout",
          "text": [
            "[1, [1, 2, 3], [4, 5, 6], [7, 8, 9]]\n"
          ]
        }
      ]
    },
    {
      "cell_type": "code",
      "source": [
        "l = [1,2,3,4,5,6,7,8,9]\n",
        "print(l)"
      ],
      "metadata": {
        "colab": {
          "base_uri": "https://localhost:8080/"
        },
        "id": "FqM6RaPUshBX",
        "outputId": "29ae74b7-5c93-4085-f411-bbf277e58a61"
      },
      "execution_count": 103,
      "outputs": [
        {
          "output_type": "stream",
          "name": "stdout",
          "text": [
            "[1, 2, 3, 4, 5, 6, 7, 8, 9]\n"
          ]
        }
      ]
    },
    {
      "cell_type": "code",
      "source": [
        "l.reverse()\n",
        "print(l)"
      ],
      "metadata": {
        "colab": {
          "base_uri": "https://localhost:8080/"
        },
        "id": "zkKCfWVyslaF",
        "outputId": "2da9b5ec-7d6d-4f6e-bace-18b8ef7cde8e"
      },
      "execution_count": 108,
      "outputs": [
        {
          "output_type": "stream",
          "name": "stdout",
          "text": [
            "[9, 8, 7, 6, 5, 4, 3, 2, 1]\n"
          ]
        }
      ]
    },
    {
      "cell_type": "code",
      "source": [
        "print(l.count(1))\n",
        "print(l.count(10))"
      ],
      "metadata": {
        "colab": {
          "base_uri": "https://localhost:8080/"
        },
        "id": "i-yA33MdsnXd",
        "outputId": "021aa4c4-f1c4-4407-fbdf-491b475524d9"
      },
      "execution_count": 110,
      "outputs": [
        {
          "output_type": "stream",
          "name": "stdout",
          "text": [
            "1\n",
            "0\n"
          ]
        }
      ]
    },
    {
      "cell_type": "code",
      "source": [
        "l = []\n",
        "for _ in range(5):\n",
        "  l.append(_)\n",
        "print(l)"
      ],
      "metadata": {
        "colab": {
          "base_uri": "https://localhost:8080/"
        },
        "id": "auZ9KkOVst_8",
        "outputId": "b4352940-6c6e-415b-b470-cce035d6026d"
      },
      "execution_count": 111,
      "outputs": [
        {
          "output_type": "stream",
          "name": "stdout",
          "text": [
            "[0, 1, 2, 3, 4]\n"
          ]
        }
      ]
    },
    {
      "cell_type": "code",
      "source": [
        "print([i for i in range(5)])"
      ],
      "metadata": {
        "colab": {
          "base_uri": "https://localhost:8080/"
        },
        "id": "U8WUGs9Vs3zR",
        "outputId": "6f8a2bfa-51e7-4ab2-aedc-a1969d31f60b"
      },
      "execution_count": 112,
      "outputs": [
        {
          "output_type": "stream",
          "name": "stdout",
          "text": [
            "[0, 1, 2, 3, 4]\n"
          ]
        }
      ]
    },
    {
      "cell_type": "code",
      "source": [
        "l  = [1,2,3,4,5]\n",
        "l.append(6)\n",
        "print(l)"
      ],
      "metadata": {
        "colab": {
          "base_uri": "https://localhost:8080/"
        },
        "id": "W3Tmm12Ts5-9",
        "outputId": "964e22b4-0e6b-4c78-b99b-f9ebff516938"
      },
      "execution_count": 113,
      "outputs": [
        {
          "output_type": "stream",
          "name": "stdout",
          "text": [
            "[1, 2, 3, 4, 5, 6]\n"
          ]
        }
      ]
    },
    {
      "cell_type": "code",
      "source": [
        "l.pop(0)\n",
        "print(l)"
      ],
      "metadata": {
        "colab": {
          "base_uri": "https://localhost:8080/"
        },
        "id": "Lq4l3KDks9gH",
        "outputId": "11c6150e-8fd5-4f9d-efa2-da18fbe8b0fe"
      },
      "execution_count": 114,
      "outputs": [
        {
          "output_type": "stream",
          "name": "stdout",
          "text": [
            "[2, 3, 4, 5, 6]\n"
          ]
        }
      ]
    },
    {
      "cell_type": "code",
      "source": [
        "t = (1,2,2,2,3,3,4,5,6,7,8,9)\n",
        "print(t.count(2),t.count(3),t.count(0))\n",
        "print(t.index(5),t.index(2),t.index(9))"
      ],
      "metadata": {
        "colab": {
          "base_uri": "https://localhost:8080/"
        },
        "id": "PO09vlq2tAPD",
        "outputId": "a885a427-07a2-4a7c-bc32-67ce8ea2ff51"
      },
      "execution_count": 116,
      "outputs": [
        {
          "output_type": "stream",
          "name": "stdout",
          "text": [
            "3 2 0\n",
            "7 1 11\n"
          ]
        }
      ]
    },
    {
      "cell_type": "code",
      "source": [
        "d = {'a':1,'b':2,'c':3}\n",
        "print(d)\n",
        "d.pop('a')\n",
        "print(d)"
      ],
      "metadata": {
        "colab": {
          "base_uri": "https://localhost:8080/"
        },
        "id": "_Nw9RKiitR4W",
        "outputId": "d486054f-3cc7-4706-f468-9d80e02aa61f"
      },
      "execution_count": 117,
      "outputs": [
        {
          "output_type": "stream",
          "name": "stdout",
          "text": [
            "{'a': 1, 'b': 2, 'c': 3}\n",
            "{'b': 2, 'c': 3}\n"
          ]
        }
      ]
    },
    {
      "cell_type": "code",
      "source": [
        "d.clear()\n",
        "print(d)"
      ],
      "metadata": {
        "colab": {
          "base_uri": "https://localhost:8080/"
        },
        "id": "d6HUsVIRtibm",
        "outputId": "fafa5671-2483-401f-8b92-276ce93d8400"
      },
      "execution_count": 118,
      "outputs": [
        {
          "output_type": "stream",
          "name": "stdout",
          "text": [
            "{}\n"
          ]
        }
      ]
    },
    {
      "cell_type": "code",
      "source": [
        "d = {'a':1,'b':2,'c':3}\n",
        "a = d.copy()\n",
        "b = d\n",
        "print(d);print(a);print(b)\n",
        "a['a'] = 2\n",
        "b['b'] = 3\n",
        "print(d);print(a);print(b)"
      ],
      "metadata": {
        "colab": {
          "base_uri": "https://localhost:8080/"
        },
        "id": "wOLvBtf0tkqH",
        "outputId": "aea86f57-29f0-4d40-b86e-f980cdb6e3bf"
      },
      "execution_count": 120,
      "outputs": [
        {
          "output_type": "stream",
          "name": "stdout",
          "text": [
            "{'a': 1, 'b': 2, 'c': 3}\n",
            "{'a': 1, 'b': 2, 'c': 3}\n",
            "{'a': 1, 'b': 2, 'c': 3}\n",
            "{'a': 1, 'b': 3, 'c': 3}\n",
            "{'a': 2, 'b': 2, 'c': 3}\n",
            "{'a': 1, 'b': 3, 'c': 3}\n"
          ]
        }
      ]
    },
    {
      "cell_type": "code",
      "source": [
        "dic = {'a':1,'b':2,'c':3}\n",
        "print(dic)\n",
        "print('a' in dic, 'd' in dic)\n",
        "print(2 in dic.values(),5 in dic.values())"
      ],
      "metadata": {
        "colab": {
          "base_uri": "https://localhost:8080/"
        },
        "id": "H9poSyiHtrVp",
        "outputId": "24ee0448-c250-44a8-ef6c-c5353bac798b"
      },
      "execution_count": 123,
      "outputs": [
        {
          "output_type": "stream",
          "name": "stdout",
          "text": [
            "{'a': 1, 'b': 2, 'c': 3}\n",
            "True False\n",
            "True False\n"
          ]
        }
      ]
    },
    {
      "cell_type": "code",
      "source": [
        "a = '안녕하세요'\n",
        "print(a[0:5:2])"
      ],
      "metadata": {
        "colab": {
          "base_uri": "https://localhost:8080/"
        },
        "id": "1U0-_HRd1UW1",
        "outputId": "36dc5110-d5f3-4d19-8cae-2d16bde83b56"
      },
      "execution_count": 124,
      "outputs": [
        {
          "output_type": "stream",
          "name": "stdout",
          "text": [
            "안하요\n"
          ]
        }
      ]
    },
    {
      "cell_type": "code",
      "source": [
        "print(a[::-1])"
      ],
      "metadata": {
        "colab": {
          "base_uri": "https://localhost:8080/"
        },
        "id": "RU0rcZgo1Xln",
        "outputId": "5fb6a2c2-f5c0-4c20-ea10-d08a3190561f"
      },
      "execution_count": 125,
      "outputs": [
        {
          "output_type": "stream",
          "name": "stdout",
          "text": [
            "요세하녕안\n"
          ]
        }
      ]
    },
    {
      "cell_type": "code",
      "source": [
        "a = 'abcdefghi'\n",
        "print(a.upper())\n",
        "print(a.lower())\n",
        "print(a.swapcase())\n",
        "print(a.capitalize())\n",
        "a = '   abcd efgh  '\n",
        "print(a.title())\n",
        "print(a.strip())\n",
        "print(a.lstrip())\n",
        "print(a.rstrip())\n",
        "a = 'abcde'\n",
        "print(a.split('c'))\n",
        "a = \"\"\"abcd\n",
        "efge\"\"\"\n",
        "print(a.splitlines())"
      ],
      "metadata": {
        "colab": {
          "base_uri": "https://localhost:8080/"
        },
        "id": "pdpSr_uy1bGk",
        "outputId": "09aa6395-4512-46b2-a753-17a72111270b"
      },
      "execution_count": 136,
      "outputs": [
        {
          "output_type": "stream",
          "name": "stdout",
          "text": [
            "ABCDEFGHI\n",
            "abcdefghi\n",
            "ABCDEFGHI\n",
            "Abcdefghi\n",
            "   Abcd Efgh  \n",
            "abcd efgh\n",
            "abcd efgh  \n",
            "   abcd efgh\n",
            "['ab', 'de']\n",
            "['abcd', 'efge']\n"
          ]
        }
      ]
    },
    {
      "cell_type": "code",
      "source": [
        "a = 'abcdef'\n",
        "print(a.index('e'))\n",
        "#print(a.index('g'))\n",
        "print(a.find('e'))\n",
        "print(a.find('g'))"
      ],
      "metadata": {
        "colab": {
          "base_uri": "https://localhost:8080/"
        },
        "id": "9425HZZT1lPa",
        "outputId": "65b72018-b2a9-4287-b780-7e59be8c436c"
      },
      "execution_count": 139,
      "outputs": [
        {
          "output_type": "stream",
          "name": "stdout",
          "text": [
            "4\n",
            "4\n",
            "-1\n"
          ]
        }
      ]
    },
    {
      "cell_type": "code",
      "source": [
        "a = \"{} , World!\".format(\"Hello\")\n",
        "print(a)"
      ],
      "metadata": {
        "colab": {
          "base_uri": "https://localhost:8080/"
        },
        "id": "NAdPhsdx2af5",
        "outputId": "01da11ae-cda0-44d4-aded-88f1d58e2317"
      },
      "execution_count": 140,
      "outputs": [
        {
          "output_type": "stream",
          "name": "stdout",
          "text": [
            "Hello , World!\n"
          ]
        }
      ]
    },
    {
      "cell_type": "code",
      "source": [
        "a = \"{} {} {}\".format(\"Hello\",\" , \",\"World!\")\n",
        "print(a)"
      ],
      "metadata": {
        "colab": {
          "base_uri": "https://localhost:8080/"
        },
        "id": "QNIWGDFc2M-E",
        "outputId": "14c2b34e-2394-4af7-b056-692e7627598e"
      },
      "execution_count": 141,
      "outputs": [
        {
          "output_type": "stream",
          "name": "stdout",
          "text": [
            "Hello  ,  World!\n"
          ]
        }
      ]
    },
    {
      "cell_type": "code",
      "source": [
        "a = \"{} , {} , {} , {}\".format(\"2\",2,(1,2),[1,2])\n",
        "print(a)"
      ],
      "metadata": {
        "colab": {
          "base_uri": "https://localhost:8080/"
        },
        "id": "-ko1Xtfh2l7Z",
        "outputId": "40cf5867-78da-426c-a3ad-28f84ea7e7ad"
      },
      "execution_count": 143,
      "outputs": [
        {
          "output_type": "stream",
          "name": "stdout",
          "text": [
            "2 , 2 , (1, 2) , [1, 2]\n"
          ]
        }
      ]
    },
    {
      "cell_type": "code",
      "source": [
        "a = \"{1} {2} {0}\".format(\"Hello\",\" , \",\"World!\")\n",
        "print(a)"
      ],
      "metadata": {
        "colab": {
          "base_uri": "https://localhost:8080/"
        },
        "id": "aOJoqb4i2u3I",
        "outputId": "098a6ada-b0b1-4880-c4c4-33a2e243d48e"
      },
      "execution_count": 144,
      "outputs": [
        {
          "output_type": "stream",
          "name": "stdout",
          "text": [
            " ,  World! Hello\n"
          ]
        }
      ]
    },
    {
      "cell_type": "code",
      "source": [
        "a = True\n",
        "b  = False\n",
        "print(type(a),type(b))\n",
        "print(bool(\"abcd\"))\n",
        "print(bool(\"\"))\n",
        "print(1==1)\n",
        "print(1==2)\n",
        "print(1>0)\n",
        "print(1<2,1>=1,1!=0)\n",
        "a = 1 ; b = 2\n",
        "print(a>0 and b > 1)\n",
        "print(a==0 or b !=1)\n",
        "print(\"a\" and \"b\")\n",
        "print(\"a\" or \"b\")"
      ],
      "metadata": {
        "colab": {
          "base_uri": "https://localhost:8080/"
        },
        "id": "ZdnB73-p24OA",
        "outputId": "56199155-9450-470f-d22f-bc68c1ce42f0"
      },
      "execution_count": 152,
      "outputs": [
        {
          "output_type": "stream",
          "name": "stdout",
          "text": [
            "<class 'bool'> <class 'bool'>\n",
            "True\n",
            "False\n",
            "True\n",
            "False\n",
            "True\n",
            "True True True\n",
            "True\n",
            "True\n",
            "b\n",
            "a\n"
          ]
        }
      ]
    },
    {
      "cell_type": "code",
      "source": [
        "if (True):\n",
        "  print(1)\n",
        "print(2)\n",
        "if (False):\n",
        "  print(1)\n",
        "print(2)"
      ],
      "metadata": {
        "colab": {
          "base_uri": "https://localhost:8080/"
        },
        "id": "oYbjx3ST3Qfc",
        "outputId": "3c2a2d12-b4df-4ce4-8e94-07e60b156c06"
      },
      "execution_count": 153,
      "outputs": [
        {
          "output_type": "stream",
          "name": "stdout",
          "text": [
            "1\n",
            "2\n",
            "2\n"
          ]
        }
      ]
    },
    {
      "cell_type": "code",
      "source": [
        "a == 2\n",
        "if a == 1:\n",
        "  print(1)\n",
        "else:\n",
        "  print(2)"
      ],
      "metadata": {
        "colab": {
          "base_uri": "https://localhost:8080/"
        },
        "id": "rF-NMlVp3xuc",
        "outputId": "628666a9-b6f0-4d0a-9fa8-c4fc16f66a6a"
      },
      "execution_count": 154,
      "outputs": [
        {
          "output_type": "stream",
          "name": "stdout",
          "text": [
            "1\n"
          ]
        }
      ]
    },
    {
      "cell_type": "code",
      "source": [
        "a = 2\n",
        "if a == 2:\n",
        "  print(1)\n",
        "elif a == 2:\n",
        "  print(2)\n",
        "else:\n",
        "  print(4)"
      ],
      "metadata": {
        "colab": {
          "base_uri": "https://localhost:8080/"
        },
        "id": "cS9KO4Mf34V3",
        "outputId": "c2bdad7e-8eca-452a-e30c-4198c1f2a15d"
      },
      "execution_count": 156,
      "outputs": [
        {
          "output_type": "stream",
          "name": "stdout",
          "text": [
            "1\n"
          ]
        }
      ]
    },
    {
      "cell_type": "code",
      "source": [
        "a = 1\n",
        "b = 2\n",
        "if a == 1:\n",
        "  if b == 3:\n",
        "    print(1)\n",
        "  else:\n",
        "    print(2)\n",
        "else:\n",
        "  print(3)"
      ],
      "metadata": {
        "colab": {
          "base_uri": "https://localhost:8080/"
        },
        "id": "7esAxykF4DIb",
        "outputId": "67053224-6fdd-47f3-bb64-2d92288e5dfc"
      },
      "execution_count": 157,
      "outputs": [
        {
          "output_type": "stream",
          "name": "stdout",
          "text": [
            "2\n"
          ]
        }
      ]
    },
    {
      "cell_type": "code",
      "source": [
        "a = 1\n",
        "b = 3\n",
        "if a == 1:\n",
        "  if b == 3:\n",
        "    if a < b :\n",
        "      print(0)\n",
        "    print(1)\n",
        "  else:\n",
        "    print(2)\n",
        "else:\n",
        "  print(3)"
      ],
      "metadata": {
        "colab": {
          "base_uri": "https://localhost:8080/"
        },
        "id": "sUTRSstj3-mi",
        "outputId": "b1f01a4b-d12b-4c33-e0c0-5acec3fff1bb"
      },
      "execution_count": 158,
      "outputs": [
        {
          "output_type": "stream",
          "name": "stdout",
          "text": [
            "0\n",
            "1\n"
          ]
        }
      ]
    },
    {
      "cell_type": "code",
      "source": [
        "a = 1\n",
        "if a == 1:\n",
        "  msg = 'a is 1'\n",
        "else:\n",
        "  msg = 'a is not 1'\n",
        "print(msg)"
      ],
      "metadata": {
        "colab": {
          "base_uri": "https://localhost:8080/"
        },
        "id": "mlZx4LTw4PbV",
        "outputId": "f6282a4d-f9d3-4f88-add1-29a97e2998b9"
      },
      "execution_count": 159,
      "outputs": [
        {
          "output_type": "stream",
          "name": "stdout",
          "text": [
            "a is 1\n"
          ]
        }
      ]
    },
    {
      "cell_type": "code",
      "source": [
        "msg2 = \"a is 1\" if a == 1 else \"a is not 1\"\n",
        "print(msg2)"
      ],
      "metadata": {
        "colab": {
          "base_uri": "https://localhost:8080/"
        },
        "id": "GS1_8v254XWY",
        "outputId": "58b9d917-b036-41a3-b8af-126469ed36fc"
      },
      "execution_count": 160,
      "outputs": [
        {
          "output_type": "stream",
          "name": "stdout",
          "text": [
            "a is 1\n"
          ]
        }
      ]
    },
    {
      "cell_type": "code",
      "source": [
        "for i in {1,2,3}:\n",
        "  print(i)"
      ],
      "metadata": {
        "colab": {
          "base_uri": "https://localhost:8080/"
        },
        "id": "3JKRl2CW4cVe",
        "outputId": "ab5b1411-7bfe-4524-cd17-fbed70b85eb1"
      },
      "execution_count": 161,
      "outputs": [
        {
          "output_type": "stream",
          "name": "stdout",
          "text": [
            "1\n",
            "2\n",
            "3\n"
          ]
        }
      ]
    },
    {
      "cell_type": "code",
      "source": [
        "for i in \"Hello\":\n",
        "  print(i)"
      ],
      "metadata": {
        "colab": {
          "base_uri": "https://localhost:8080/"
        },
        "id": "FXkonKeG4jVi",
        "outputId": "169a8024-a0ad-4bd2-8307-2bec23bff4b7"
      },
      "execution_count": 162,
      "outputs": [
        {
          "output_type": "stream",
          "name": "stdout",
          "text": [
            "H\n",
            "e\n",
            "l\n",
            "l\n",
            "o\n"
          ]
        }
      ]
    },
    {
      "cell_type": "code",
      "source": [
        "import collections.abc\n",
        "obj = [1, 2, 3, 4]\n",
        "print(isinstance(obj, collections.abc.Iterable))"
      ],
      "metadata": {
        "colab": {
          "base_uri": "https://localhost:8080/"
        },
        "id": "_alVAbvC4l6l",
        "outputId": "7f89b51a-d41e-4266-8bb4-41e9d9dc76b1"
      },
      "execution_count": 165,
      "outputs": [
        {
          "output_type": "stream",
          "name": "stdout",
          "text": [
            "True\n"
          ]
        }
      ]
    },
    {
      "cell_type": "code",
      "source": [
        "print(range(10))"
      ],
      "metadata": {
        "colab": {
          "base_uri": "https://localhost:8080/"
        },
        "id": "G6oeyVhO4v_T",
        "outputId": "e678ccf1-097e-4199-d617-b706d6e1026d"
      },
      "execution_count": 166,
      "outputs": [
        {
          "output_type": "stream",
          "name": "stdout",
          "text": [
            "range(0, 10)\n"
          ]
        }
      ]
    },
    {
      "cell_type": "code",
      "source": [
        "l = list(range(10))\n",
        "print(l)"
      ],
      "metadata": {
        "colab": {
          "base_uri": "https://localhost:8080/"
        },
        "id": "G9wYRhj648sk",
        "outputId": "7356087f-b3f3-49c4-e6bb-f1dbfc5b5bf1"
      },
      "execution_count": 167,
      "outputs": [
        {
          "output_type": "stream",
          "name": "stdout",
          "text": [
            "[0, 1, 2, 3, 4, 5, 6, 7, 8, 9]\n"
          ]
        }
      ]
    },
    {
      "cell_type": "code",
      "source": [
        "l = ['a',9,[1,2,3],('a','b')]\n",
        "for i in range(len(l)):\n",
        "  print(l[i])"
      ],
      "metadata": {
        "colab": {
          "base_uri": "https://localhost:8080/"
        },
        "id": "n9J5WC1s5A7j",
        "outputId": "29068414-32bf-4913-c4bd-38d440c4f516"
      },
      "execution_count": 170,
      "outputs": [
        {
          "output_type": "stream",
          "name": "stdout",
          "text": [
            "a\n",
            "9\n",
            "[1, 2, 3]\n",
            "('a', 'b')\n"
          ]
        }
      ]
    },
    {
      "cell_type": "code",
      "source": [
        "for i in [1,2,3]:\n",
        "  for j in (10,20):\n",
        "    print(j)\n",
        "  print(i)"
      ],
      "metadata": {
        "colab": {
          "base_uri": "https://localhost:8080/"
        },
        "id": "G5xl8ZoK5Hh1",
        "outputId": "3382e08c-aba3-4843-ebe8-8c7315aa09e0"
      },
      "execution_count": 171,
      "outputs": [
        {
          "output_type": "stream",
          "name": "stdout",
          "text": [
            "10\n",
            "20\n",
            "1\n",
            "10\n",
            "20\n",
            "2\n",
            "10\n",
            "20\n",
            "3\n"
          ]
        }
      ]
    },
    {
      "cell_type": "code",
      "source": [
        "for i in [1,2,3]:\n",
        "  for j in (10,20):\n",
        "    print(j)\n",
        "    print(i)"
      ],
      "metadata": {
        "colab": {
          "base_uri": "https://localhost:8080/"
        },
        "id": "CgX7fmL85Ox2",
        "outputId": "7cc4e17e-7882-479c-f34c-56cc1d768c89"
      },
      "execution_count": 172,
      "outputs": [
        {
          "output_type": "stream",
          "name": "stdout",
          "text": [
            "10\n",
            "1\n",
            "20\n",
            "1\n",
            "10\n",
            "2\n",
            "20\n",
            "2\n",
            "10\n",
            "3\n",
            "20\n",
            "3\n"
          ]
        }
      ]
    },
    {
      "cell_type": "code",
      "source": [
        "l = [[1,2],[3,4],[5,6]]\n",
        "for i in l:\n",
        "  print(i)"
      ],
      "metadata": {
        "colab": {
          "base_uri": "https://localhost:8080/"
        },
        "id": "L1dFlHTT5RB2",
        "outputId": "619ecf46-e5c9-46e8-c851-a4f823aa733c"
      },
      "execution_count": 173,
      "outputs": [
        {
          "output_type": "stream",
          "name": "stdout",
          "text": [
            "[1, 2]\n",
            "[3, 4]\n",
            "[5, 6]\n"
          ]
        }
      ]
    },
    {
      "cell_type": "code",
      "source": [
        "l = [[1,2],[3,4],[5,6]]\n",
        "for i,j in l:\n",
        "  print(i+j)"
      ],
      "metadata": {
        "colab": {
          "base_uri": "https://localhost:8080/"
        },
        "id": "QNtFbwCn5Vv0",
        "outputId": "6631366d-40ac-4689-a2fc-2460d142f32c"
      },
      "execution_count": 174,
      "outputs": [
        {
          "output_type": "stream",
          "name": "stdout",
          "text": [
            "3\n",
            "7\n",
            "11\n"
          ]
        }
      ]
    },
    {
      "cell_type": "code",
      "source": [
        "s = \"Hello\"\n",
        "cnt = 0\n",
        "for i in s:\n",
        "  if i == 'e':\n",
        "    print(' i is e')\n",
        "  cnt +=1\n",
        "print(cnt)"
      ],
      "metadata": {
        "colab": {
          "base_uri": "https://localhost:8080/"
        },
        "id": "ZCWkCTCH5YnZ",
        "outputId": "394fbf50-b8fe-45b1-cff6-4b99c20996a2"
      },
      "execution_count": 175,
      "outputs": [
        {
          "output_type": "stream",
          "name": "stdout",
          "text": [
            " i is e\n",
            "5\n"
          ]
        }
      ]
    },
    {
      "cell_type": "code",
      "source": [
        "s = \"Hello\"\n",
        "cnt = 0\n",
        "for i in s:\n",
        "  if i == 'e':\n",
        "    print('i is e')\n",
        "    continue\n",
        "  cnt+=1\n",
        "print(cnt)"
      ],
      "metadata": {
        "colab": {
          "base_uri": "https://localhost:8080/"
        },
        "id": "5TitjaNI5gNK",
        "outputId": "387200de-4715-4567-df91-2ba25533a595"
      },
      "execution_count": 176,
      "outputs": [
        {
          "output_type": "stream",
          "name": "stdout",
          "text": [
            "i is e\n",
            "4\n"
          ]
        }
      ]
    },
    {
      "cell_type": "code",
      "source": [
        "num = 5\n",
        "while num > 0:\n",
        "  print(num)\n",
        "  num-=1"
      ],
      "metadata": {
        "colab": {
          "base_uri": "https://localhost:8080/"
        },
        "id": "LVTTljTQ5njf",
        "outputId": "96bf88f3-063f-45c1-b559-a5dc910daadf"
      },
      "execution_count": 177,
      "outputs": [
        {
          "output_type": "stream",
          "name": "stdout",
          "text": [
            "5\n",
            "4\n",
            "3\n",
            "2\n",
            "1\n"
          ]
        }
      ]
    },
    {
      "cell_type": "code",
      "source": [
        "num = 10\n",
        "while num > 0:\n",
        "  if num == 6:\n",
        "    print('end')\n",
        "    break\n",
        "  else:\n",
        "    print(num)\n",
        "    num-=1\n"
      ],
      "metadata": {
        "colab": {
          "base_uri": "https://localhost:8080/"
        },
        "id": "mQdfVtbS5sdO",
        "outputId": "05c6f917-aa2a-4ef6-d9cb-2b0d9825defa"
      },
      "execution_count": 178,
      "outputs": [
        {
          "output_type": "stream",
          "name": "stdout",
          "text": [
            "10\n",
            "9\n",
            "8\n",
            "7\n",
            "end\n"
          ]
        }
      ]
    },
    {
      "cell_type": "code",
      "source": [
        "num = 10\n",
        "while num > 0:\n",
        "  print(num,end=' , ')\n",
        "  num-=1\n",
        "  if num == 6:\n",
        "    continue"
      ],
      "metadata": {
        "colab": {
          "base_uri": "https://localhost:8080/"
        },
        "id": "213Nv9zi50Rk",
        "outputId": "0380f594-2512-4831-c4a6-6fa8a1ff6cf5"
      },
      "execution_count": 179,
      "outputs": [
        {
          "output_type": "stream",
          "name": "stdout",
          "text": [
            "10 , 9 , 8 , 7 , 6 , 5 , 4 , 3 , 2 , 1 , "
          ]
        }
      ]
    },
    {
      "cell_type": "code",
      "source": [
        "print([i for i in range(5) if i % 2 == 0])"
      ],
      "metadata": {
        "colab": {
          "base_uri": "https://localhost:8080/"
        },
        "id": "S-7zRkAE59ro",
        "outputId": "dd9c71f1-41b7-4252-e605-dd26e564d401"
      },
      "execution_count": 181,
      "outputs": [
        {
          "output_type": "stream",
          "name": "stdout",
          "text": [
            "[0, 2, 4]\n"
          ]
        }
      ]
    },
    {
      "cell_type": "code",
      "source": [],
      "metadata": {
        "id": "uTFbiU_66FK6"
      },
      "execution_count": null,
      "outputs": []
    }
  ]
}