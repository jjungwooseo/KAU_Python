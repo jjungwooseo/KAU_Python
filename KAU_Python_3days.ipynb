{
  "nbformat": 4,
  "nbformat_minor": 0,
  "metadata": {
    "colab": {
      "provenance": [],
      "authorship_tag": "ABX9TyNU1CoWtyylqHjCh0/aMecW",
      "include_colab_link": true
    },
    "kernelspec": {
      "name": "python3",
      "display_name": "Python 3"
    },
    "language_info": {
      "name": "python"
    }
  },
  "cells": [
    {
      "cell_type": "markdown",
      "metadata": {
        "id": "view-in-github",
        "colab_type": "text"
      },
      "source": [
        "<a href=\"https://colab.research.google.com/github/jjungwooseo/KAU_Python/blob/main/KAU_Python_3days.ipynb\" target=\"_parent\"><img src=\"https://colab.research.google.com/assets/colab-badge.svg\" alt=\"Open In Colab\"/></a>"
      ]
    },
    {
      "cell_type": "code",
      "execution_count": 1,
      "metadata": {
        "id": "defXBQG8i7v4"
      },
      "outputs": [],
      "source": [
        "student_name = \"김학생\"\n",
        "student_number = 2025050097\n",
        "student_age = 20"
      ]
    },
    {
      "cell_type": "code",
      "source": [
        "a = 0\n",
        "class S1:\n",
        "  a = 1\n",
        "x = S1()\n",
        "print(a)\n",
        "print(x.a)"
      ],
      "metadata": {
        "colab": {
          "base_uri": "https://localhost:8080/"
        },
        "id": "7turA1MpjS_V",
        "outputId": "e6c85daf-62e7-4882-8557-532ab59edb2e"
      },
      "execution_count": 4,
      "outputs": [
        {
          "output_type": "stream",
          "name": "stdout",
          "text": [
            "0\n",
            "1\n"
          ]
        }
      ]
    },
    {
      "cell_type": "code",
      "source": [
        "class Simple_Class:\n",
        "  pass\n",
        "c1 = Simple_Class()\n",
        "c2 = Simple_Class()\n",
        "\n",
        "c1.a = 10\n",
        "print(c1.a)\n",
        "#print(c2.a)"
      ],
      "metadata": {
        "colab": {
          "base_uri": "https://localhost:8080/"
        },
        "id": "YaTdBWktjm_u",
        "outputId": "6599e39f-8936-4a35-bedf-a4b3c1158943"
      },
      "execution_count": 6,
      "outputs": [
        {
          "output_type": "stream",
          "name": "stdout",
          "text": [
            "10\n"
          ]
        }
      ]
    },
    {
      "cell_type": "code",
      "source": [
        "a = 0\n",
        "class S1:\n",
        "  a = 1\n",
        "print(\"S1 : \",S1.a)\n",
        "x = S1()\n",
        "print(\"x.a : \",x.a)\n",
        "print('----------')\n",
        "x.a = 10\n",
        "print(\"a : \",a)\n",
        "print(\"x.a : \",x.a)\n",
        "print(\"S1.a : \",S1.a)"
      ],
      "metadata": {
        "colab": {
          "base_uri": "https://localhost:8080/"
        },
        "id": "AOWKEyCEkA_-",
        "outputId": "d94dfbad-df0f-4f12-deb1-7813270ecd6e"
      },
      "execution_count": 7,
      "outputs": [
        {
          "output_type": "stream",
          "name": "stdout",
          "text": [
            "S1 :  1\n",
            "x.a :  1\n",
            "----------\n",
            "a :  0\n",
            "x.a :  10\n",
            "S1.a :  1\n"
          ]
        }
      ]
    },
    {
      "cell_type": "code",
      "source": [
        "class MyClass:\n",
        "    def class_set(self, v):\n",
        "        self.value = int(v)\n",
        "\n",
        "    def class_get(self):\n",
        "        return self.value\n",
        "\n",
        "    def class_incr(self):\n",
        "        self.class_set(self.value + 1)\n",
        "\n",
        "c = MyClass()\n",
        "c.class_set(1)\n",
        "print(c.class_get())\n",
        "\n",
        "c = MyClass()\n",
        "MyClass.class_set(c, '10')\n",
        "print(MyClass.class_get(c))\n",
        "\n",
        "c.class_incr()\n",
        "print(c.class_get())"
      ],
      "metadata": {
        "colab": {
          "base_uri": "https://localhost:8080/"
        },
        "id": "JXLCnE5rk1Ix",
        "outputId": "2ff2aa30-489c-4682-c51e-bfd70eb152e0"
      },
      "execution_count": 17,
      "outputs": [
        {
          "output_type": "stream",
          "name": "stdout",
          "text": [
            "1\n",
            "10\n",
            "11\n"
          ]
        }
      ]
    },
    {
      "cell_type": "code",
      "source": [
        "def class_set(i):\n",
        "  print(\"외부 함수입니다. - \",i)\n",
        "class MyClass:\n",
        "  def class_set(self,v):\n",
        "    self.value = v\n",
        "  def class_get(self):\n",
        "    return self.value\n",
        "  def class_incr(self):\n",
        "    class_set(self.value+1)\n",
        "c = MyClass()\n",
        "c.class_set(1)\n",
        "print(c.class_get())\n",
        "\n",
        "print()\n",
        "\n",
        "c.class_incr()\n",
        "print(c.class_get())"
      ],
      "metadata": {
        "colab": {
          "base_uri": "https://localhost:8080/"
        },
        "id": "2JFFLaxFll9v",
        "outputId": "7c1b6868-84c1-4ac1-ef63-ff2119ec73b5"
      },
      "execution_count": 18,
      "outputs": [
        {
          "output_type": "stream",
          "name": "stdout",
          "text": [
            "1\n",
            "\n",
            "외부 함수입니다. -  2\n",
            "1\n"
          ]
        }
      ]
    },
    {
      "cell_type": "code",
      "source": [
        "class C:\n",
        "  def ham(self, x, y):\n",
        "    print(\"instance method\", x, y)\n",
        "\n",
        "c = C()\n",
        "c.ham(1, 2)\n",
        "C.ham(c, 1, 2)"
      ],
      "metadata": {
        "colab": {
          "base_uri": "https://localhost:8080/"
        },
        "id": "P-lkfpm4oWR3",
        "outputId": "002e89d7-2ec5-4fdd-9ac3-415e39ee131e"
      },
      "execution_count": 20,
      "outputs": [
        {
          "output_type": "stream",
          "name": "stdout",
          "text": [
            "instance method 1 2\n",
            "instance method 1 2\n"
          ]
        }
      ]
    },
    {
      "cell_type": "code",
      "source": [
        "class MyClass:\n",
        "    def __init__(self):\n",
        "        self.name = \"Class\"\n",
        "        print(\"클래스가 생성되었습니다.\", self.name)\n",
        "\n",
        "    def __del__(self):\n",
        "        print(\"클래스가 소멸되었습니다.\")\n",
        "\n",
        "c = MyClass()"
      ],
      "metadata": {
        "colab": {
          "base_uri": "https://localhost:8080/"
        },
        "id": "6bmHlanbqh_4",
        "outputId": "26264e31-898e-4287-9fb9-548c570b7de2"
      },
      "execution_count": 22,
      "outputs": [
        {
          "output_type": "stream",
          "name": "stdout",
          "text": [
            "클래스가 생성되었습니다. Class\n"
          ]
        }
      ]
    },
    {
      "cell_type": "code",
      "source": [
        "class A:\n",
        "  def func(self,a):\n",
        "    return \"hello\"\n",
        "  def func(self):\n",
        "    return \"World\"\n",
        "a = A()\n",
        "print(a.func())\n",
        "#print(a.func(1))"
      ],
      "metadata": {
        "colab": {
          "base_uri": "https://localhost:8080/"
        },
        "id": "ah6VvJk8rLvM",
        "outputId": "f06b7b6b-d943-444d-f0b5-58e7ad4f5ced"
      },
      "execution_count": 24,
      "outputs": [
        {
          "output_type": "stream",
          "name": "stdout",
          "text": [
            "World\n"
          ]
        }
      ]
    },
    {
      "cell_type": "code",
      "source": [
        "class Person:\n",
        "  def __init__(self,name,phone=None):\n",
        "    self.name = name\n",
        "    self.phone = phone\n",
        "  def __str__(self):\n",
        "    return '<Person {0} {1}>'.format(self.name,self.phone)\n",
        "class Employee(Person):\n",
        "  def __init__(self,name,phone,position,salary):\n",
        "    Person.__init__(self,name,phone)\n",
        "    self.position = position\n",
        "    self.salary = salary\n",
        "p1 = Person('홍길동',1498)\n",
        "print(p1.name)\n",
        "print(p1)\n",
        "print()\n",
        "m1 = Employee('순창희',564,'대리',200)\n",
        "print(m1.name,m1.position)\n",
        "print(m1)\n"
      ],
      "metadata": {
        "colab": {
          "base_uri": "https://localhost:8080/"
        },
        "id": "WLrZGAaesDAh",
        "outputId": "33a72323-5e75-4720-b9b0-dff9ebeaee74"
      },
      "execution_count": 25,
      "outputs": [
        {
          "output_type": "stream",
          "name": "stdout",
          "text": [
            "홍길동\n",
            "<Person 홍길동 1498>\n",
            "\n",
            "순창희 대리\n",
            "<Person 순창희 564>\n"
          ]
        }
      ]
    },
    {
      "cell_type": "code",
      "source": [
        "class Animal:\n",
        "  def cry(self):\n",
        "    return \"엉엉\"\n",
        "class Dog(Animal):\n",
        "  def cry(self,a,b):\n",
        "    return a *b\n",
        "class Duck(Animal):\n",
        "  def cry(self,a,b):\n",
        "    return a+b\n",
        "class Fish(Animal):\n",
        "  pass\n",
        "a = Dog()\n",
        "b = Duck()\n",
        "c = Fish()\n",
        "print(a.cry(\"멍멍\",3))\n",
        "print(b.cry(4,3))\n",
        "print(c.cry())"
      ],
      "metadata": {
        "colab": {
          "base_uri": "https://localhost:8080/"
        },
        "id": "pkxD-s215q5d",
        "outputId": "4bbb3a30-8bc1-423a-8f0a-1a463f47e0e1"
      },
      "execution_count": 26,
      "outputs": [
        {
          "output_type": "stream",
          "name": "stdout",
          "text": [
            "멍멍멍멍멍멍\n",
            "7\n",
            "엉엉\n"
          ]
        }
      ]
    },
    {
      "cell_type": "code",
      "source": [
        "a = input(\"정수 입력 : \")\n",
        "a = float(a)\n",
        "print(\"반지름 : \",a)\n",
        "print(\"둘레 : \",2*3.14*a)\n",
        "print(\"넓이 : \",3.14*a*a)"
      ],
      "metadata": {
        "colab": {
          "base_uri": "https://localhost:8080/"
        },
        "id": "6eEc5GbA-ouD",
        "outputId": "e03bf554-0410-4895-ce4e-2e60d08ab130"
      },
      "execution_count": 27,
      "outputs": [
        {
          "output_type": "stream",
          "name": "stdout",
          "text": [
            "정수 입력 : 5\n",
            "반지름 :  5.0\n",
            "둘레 :  31.400000000000002\n",
            "넓이 :  78.5\n"
          ]
        }
      ]
    },
    {
      "cell_type": "code",
      "source": [
        "a = input(\"정수 입력 : \")\n",
        "if a.isdigit():\n",
        "  a = float(a)\n",
        "  print(\"반지름 : \",a)\n",
        "  print(\"둘레 : \",2*3.14*a)\n",
        "  print(\"넓이 : \",3.14*a*a)\n",
        "else:\n",
        "  print(\"예외 처리되었습니다.\")"
      ],
      "metadata": {
        "colab": {
          "base_uri": "https://localhost:8080/"
        },
        "id": "6t0U28q2-zyU",
        "outputId": "c5b8aef7-550c-4a71-ea8f-346a7f26b76d"
      },
      "execution_count": 28,
      "outputs": [
        {
          "output_type": "stream",
          "name": "stdout",
          "text": [
            "정수 입력 : 시반\n",
            "예외 처리되었습니다.\n"
          ]
        }
      ]
    },
    {
      "cell_type": "code",
      "source": [
        "a = input(\"정수 입력 : \")\n",
        "try:\n",
        "  a = float(a)\n",
        "  print(\"반지름 : \",a)\n",
        "  print(\"둘레 : \",2*3.14*a)\n",
        "  print(\"넓이 : \",3.14*a*a)\n",
        "except:\n",
        "  print(\"예외 발생!!!\")"
      ],
      "metadata": {
        "colab": {
          "base_uri": "https://localhost:8080/"
        },
        "id": "0zy75jVs--ek",
        "outputId": "42947dde-1a26-44bc-962f-bd107cfd96da"
      },
      "execution_count": 29,
      "outputs": [
        {
          "output_type": "stream",
          "name": "stdout",
          "text": [
            "정수 입력 : 정수\n",
            "예외 발생!!!\n"
          ]
        }
      ]
    },
    {
      "cell_type": "code",
      "source": [
        "num = [\"3\",'안녕하세요','4',2,67,'python']\n",
        "digit_num = []\n",
        "for i in num:\n",
        "  try:\n",
        "    digit_num.append(int(i))\n",
        "  except:\n",
        "    pass\n",
        "print(digit_num)"
      ],
      "metadata": {
        "colab": {
          "base_uri": "https://localhost:8080/"
        },
        "id": "MryGeE31_MoM",
        "outputId": "1b32f843-6ed7-4147-b0dd-b08922b01b39"
      },
      "execution_count": 30,
      "outputs": [
        {
          "output_type": "stream",
          "name": "stdout",
          "text": [
            "[3, 4, 2, 67]\n"
          ]
        }
      ]
    },
    {
      "cell_type": "code",
      "source": [
        "num = [\"3\",'안녕하세요','4',2,67,'python']\n",
        "try:\n",
        "  a = input(\"정수를 입력 해주세요 : \")\n",
        "  a = int(a)\n",
        "  print(a,'번쨰 요소는 : ',num[a],'입니다.')\n",
        "except ValueError:\n",
        "  print(\"정수를 입력해주세요\")\n",
        "except IndexError:\n",
        "  print(\"리스트의 범위를 벗어났습니다.\")"
      ],
      "metadata": {
        "colab": {
          "base_uri": "https://localhost:8080/"
        },
        "id": "Q-vVT-pJ_evw",
        "outputId": "68300013-d2d7-4d7e-ec54-b964ac3da796"
      },
      "execution_count": 34,
      "outputs": [
        {
          "output_type": "stream",
          "name": "stdout",
          "text": [
            "정수를 입력 해주세요 : 61\n",
            "리스트의 범위를 벗어났습니다.\n"
          ]
        }
      ]
    },
    {
      "cell_type": "code",
      "source": [
        "try:\n",
        "  print(1/0)\n",
        "except ArithmeticError:\n",
        "  print(\"ArithmeticException occured\")\n",
        "except ZeroDivisionError:\n",
        "  print(\"ZeroDivisionError occured\")"
      ],
      "metadata": {
        "colab": {
          "base_uri": "https://localhost:8080/"
        },
        "id": "axfKFj8t_616",
        "outputId": "1e547394-a6c1-425e-ae10-8a079b89c9e1"
      },
      "execution_count": 35,
      "outputs": [
        {
          "output_type": "stream",
          "name": "stdout",
          "text": [
            "ArithmeticException occured\n"
          ]
        }
      ]
    },
    {
      "cell_type": "code",
      "source": [
        "a = input(\"정수 입력 : \")\n",
        "a = int(a)\n",
        "\n",
        "if a > 0:\n",
        "  raise ExceptionGroup\n",
        "else:\n",
        "  print(\"음수입니다.\")"
      ],
      "metadata": {
        "colab": {
          "base_uri": "https://localhost:8080/"
        },
        "id": "J6Gl6H78AQnI",
        "outputId": "1681b6d9-ddf6-4259-97ed-836692f9c2aa"
      },
      "execution_count": 38,
      "outputs": [
        {
          "output_type": "stream",
          "name": "stdout",
          "text": [
            "정수 입력 : -1\n",
            "음수입니다.\n"
          ]
        }
      ]
    },
    {
      "cell_type": "code",
      "source": [
        "num = [\"3\",'안녕하세요','4',2,67,'python']\n",
        "try:\n",
        "  a = input(\"정수 입력 : \")\n",
        "  a = int(a)\n",
        "  print(a,'번쨰 요소는 : ',num[a],'입니다.')\n",
        "except ValueError as msg:\n",
        "  print(\"정수를 입력해주세요\")\n",
        "except IndexError as msg:\n",
        "  print(\"리스트의 범위를 벗어났습니다.\")\n",
        "except Exception as msg:\n",
        "  print(\"예상하지 못한 오류가 발생했습니다.\")\n",
        "else:\n",
        "  print(\"파이썬 프로그래밍\")\n",
        "finally:\n",
        "  print(\"프로그램이 종료되었습니다.\")"
      ],
      "metadata": {
        "colab": {
          "base_uri": "https://localhost:8080/"
        },
        "id": "BYQvS2UeAZ6E",
        "outputId": "cc362f03-1dbb-4602-e77a-6fe37fb3a2e3"
      },
      "execution_count": 39,
      "outputs": [
        {
          "output_type": "stream",
          "name": "stdout",
          "text": [
            "정수 입력 : 4\n",
            "4 번쨰 요소는 :  67 입니다.\n",
            "파이썬 프로그래밍\n",
            "프로그램이 종료되었습니다.\n"
          ]
        }
      ]
    },
    {
      "cell_type": "code",
      "source": [],
      "metadata": {
        "id": "kHQGI2TzA5g6"
      },
      "execution_count": null,
      "outputs": []
    }
  ]
}