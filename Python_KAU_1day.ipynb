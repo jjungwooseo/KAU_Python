{
  "nbformat": 4,
  "nbformat_minor": 0,
  "metadata": {
    "colab": {
      "provenance": [],
      "authorship_tag": "ABX9TyPCUEp3HL6+TERRqvw+f2kh",
      "include_colab_link": true
    },
    "kernelspec": {
      "name": "python3",
      "display_name": "Python 3"
    },
    "language_info": {
      "name": "python"
    }
  },
  "cells": [
    {
      "cell_type": "markdown",
      "metadata": {
        "id": "view-in-github",
        "colab_type": "text"
      },
      "source": [
        "<a href=\"https://colab.research.google.com/github/jjungwooseo/KAU_Python/blob/main/Python_KAU_1day.ipynb\" target=\"_parent\"><img src=\"https://colab.research.google.com/assets/colab-badge.svg\" alt=\"Open In Colab\"/></a>"
      ]
    },
    {
      "cell_type": "code",
      "execution_count": 1,
      "metadata": {
        "colab": {
          "base_uri": "https://localhost:8080/"
        },
        "id": "WZQ46QsnUPa0",
        "outputId": "1727429f-0624-4d68-ee31-da4eba09ffaa"
      },
      "outputs": [
        {
          "output_type": "stream",
          "name": "stdout",
          "text": [
            "0\n",
            "1\n",
            "1\n",
            "2\n",
            "2\n",
            "3\n",
            "3\n",
            "4\n",
            "4\n",
            "5\n",
            "5\n",
            "6\n",
            "6\n",
            "7\n",
            "7\n",
            "8\n",
            "8\n",
            "9\n",
            "9\n",
            "10\n"
          ]
        }
      ],
      "source": [
        "for i in range(10):\n",
        "  print(i)\n",
        "  print(i+1)"
      ]
    },
    {
      "cell_type": "code",
      "source": [
        "print('Hello');print('World')"
      ],
      "metadata": {
        "colab": {
          "base_uri": "https://localhost:8080/"
        },
        "id": "mthEjQHbUY7t",
        "outputId": "a41301b9-9cf6-44dd-9dc5-8b32e897c1f7"
      },
      "execution_count": 2,
      "outputs": [
        {
          "output_type": "stream",
          "name": "stdout",
          "text": [
            "Hello\n",
            "World\n"
          ]
        }
      ]
    },
    {
      "cell_type": "code",
      "source": [
        "# 주석"
      ],
      "metadata": {
        "id": "SW7JL1zZUhL2"
      },
      "execution_count": 3,
      "outputs": []
    },
    {
      "cell_type": "code",
      "source": [
        "'''\n",
        "Multiline commenta\n",
        "Line 1\n",
        "Line 2\n",
        "Line 3\n",
        "'''"
      ],
      "metadata": {
        "colab": {
          "base_uri": "https://localhost:8080/",
          "height": 36
        },
        "id": "nYsQ6RFwUi_Y",
        "outputId": "fc00f509-9814-4466-fcfc-92f236dc2532"
      },
      "execution_count": 4,
      "outputs": [
        {
          "output_type": "execute_result",
          "data": {
            "text/plain": [
              "'\\nMultiline commenta\\nLine 1\\nLine 2\\nLine 3\\n'"
            ],
            "application/vnd.google.colaboratory.intrinsic+json": {
              "type": "string"
            }
          },
          "metadata": {},
          "execution_count": 4
        }
      ]
    },
    {
      "cell_type": "code",
      "source": [
        "import math\n",
        "math.sqrt(81)\n",
        "math.factorial(5)\n",
        "import numpy as np\n",
        "A = np.array([1,2,3])"
      ],
      "metadata": {
        "id": "KgNYuZiMUpkk"
      },
      "execution_count": 5,
      "outputs": []
    },
    {
      "cell_type": "markdown",
      "source": [
        "원시 데이터 타입"
      ],
      "metadata": {
        "id": "c5mknZ75dyKO"
      }
    },
    {
      "cell_type": "code",
      "source": [
        "num_int = 30\n",
        "print(num_int)\n",
        "print(type(num_int))"
      ],
      "metadata": {
        "colab": {
          "base_uri": "https://localhost:8080/"
        },
        "id": "ZtpYsZH0d1Tu",
        "outputId": "68a0b9c5-f073-4135-a9f6-efa1b619b631"
      },
      "execution_count": 6,
      "outputs": [
        {
          "output_type": "stream",
          "name": "stdout",
          "text": [
            "30\n",
            "<class 'int'>\n"
          ]
        }
      ]
    },
    {
      "cell_type": "code",
      "source": [
        "x = True or False\n",
        "print(x)\n",
        "print(type(x))"
      ],
      "metadata": {
        "colab": {
          "base_uri": "https://localhost:8080/"
        },
        "id": "9a2WZ5fjd6ZO",
        "outputId": "c294c034-5d07-4f8d-acda-f721c1e22ee3"
      },
      "execution_count": 7,
      "outputs": [
        {
          "output_type": "stream",
          "name": "stdout",
          "text": [
            "True\n",
            "<class 'bool'>\n"
          ]
        }
      ]
    },
    {
      "cell_type": "markdown",
      "source": [
        "사칙연산"
      ],
      "metadata": {
        "id": "Ng2dYubyeBUC"
      }
    },
    {
      "cell_type": "code",
      "source": [
        "x = 6\n",
        "y = 3\n",
        "result = x+y\n",
        "print(result)\n",
        "print(x-y)\n",
        "print(x*y)\n",
        "print(x/y)"
      ],
      "metadata": {
        "colab": {
          "base_uri": "https://localhost:8080/"
        },
        "id": "NRx9nk0KeC15",
        "outputId": "b1f94578-45ae-408b-a791-f3bf63ed3452"
      },
      "execution_count": 8,
      "outputs": [
        {
          "output_type": "stream",
          "name": "stdout",
          "text": [
            "9\n",
            "3\n",
            "18\n",
            "2.0\n"
          ]
        }
      ]
    },
    {
      "cell_type": "code",
      "source": [
        "x = 2\n",
        "result = x ** 4\n",
        "print(result)"
      ],
      "metadata": {
        "colab": {
          "base_uri": "https://localhost:8080/"
        },
        "id": "GFTsZY23eQ_I",
        "outputId": "78c4d4bc-19a1-4361-bb2c-d1af50552e17"
      },
      "execution_count": 9,
      "outputs": [
        {
          "output_type": "stream",
          "name": "stdout",
          "text": [
            "16\n"
          ]
        }
      ]
    },
    {
      "cell_type": "code",
      "source": [
        "x = 30\n",
        "y = 4\n",
        "print(x//y)"
      ],
      "metadata": {
        "colab": {
          "base_uri": "https://localhost:8080/"
        },
        "id": "mLxI-d4aeI2j",
        "outputId": "e7776ee7-511e-46b4-bc7d-7f2bc3fd27b0"
      },
      "execution_count": 10,
      "outputs": [
        {
          "output_type": "stream",
          "name": "stdout",
          "text": [
            "7\n"
          ]
        }
      ]
    },
    {
      "cell_type": "markdown",
      "source": [
        "조건 연산자"
      ],
      "metadata": {
        "id": "ZtRn3sHseYKe"
      }
    },
    {
      "cell_type": "code",
      "source": [
        "x = 418\n",
        "y = 430\n",
        "print(x==y)\n",
        "print(x!=y)\n",
        "print(x>y)\n",
        "print(x<y)\n",
        "print(x>=y)\n",
        "print(x<=y)\n"
      ],
      "metadata": {
        "colab": {
          "base_uri": "https://localhost:8080/"
        },
        "id": "n_7_2AKjeadU",
        "outputId": "fa6be18a-e308-4e5b-f218-0d04920491a3"
      },
      "execution_count": 11,
      "outputs": [
        {
          "output_type": "stream",
          "name": "stdout",
          "text": [
            "False\n",
            "True\n",
            "False\n",
            "True\n",
            "False\n",
            "True\n"
          ]
        }
      ]
    },
    {
      "cell_type": "code",
      "source": [
        "x = input('임이의 숫자를 입력하세요: ')\n",
        "print(x)"
      ],
      "metadata": {
        "colab": {
          "base_uri": "https://localhost:8080/"
        },
        "id": "kM2FCbdYekfe",
        "outputId": "b8829efe-7db0-4bc9-f796-20d8bcdec268"
      },
      "execution_count": 12,
      "outputs": [
        {
          "output_type": "stream",
          "name": "stdout",
          "text": [
            "임이의 숫자를 입력하세요: 10\n",
            "10\n"
          ]
        }
      ]
    },
    {
      "cell_type": "code",
      "source": [
        "True and False"
      ],
      "metadata": {
        "colab": {
          "base_uri": "https://localhost:8080/"
        },
        "id": "t4cEQ5NOeqVd",
        "outputId": "caefe212-bfcf-4b6e-f2ef-ce5fbe3b6c82"
      },
      "execution_count": 13,
      "outputs": [
        {
          "output_type": "execute_result",
          "data": {
            "text/plain": [
              "False"
            ]
          },
          "metadata": {},
          "execution_count": 13
        }
      ]
    },
    {
      "cell_type": "markdown",
      "source": [
        "String 덧셈,곱셈"
      ],
      "metadata": {
        "id": "nrojkTiTex8u"
      }
    },
    {
      "cell_type": "code",
      "source": [
        "a = 'boy'\n",
        "b = 'loves'\n",
        "c = 'girl'\n",
        "letter = a + \" \" + b + \" \"+ c + \" forever\"\n",
        "print(letter)"
      ],
      "metadata": {
        "colab": {
          "base_uri": "https://localhost:8080/"
        },
        "id": "ukCN-UKye0-b",
        "outputId": "ed72f996-ab85-4a3d-d01b-3ed3afd647b1"
      },
      "execution_count": 14,
      "outputs": [
        {
          "output_type": "stream",
          "name": "stdout",
          "text": [
            "boy loves girl forever\n"
          ]
        }
      ]
    },
    {
      "cell_type": "markdown",
      "source": [
        "문자열 수정"
      ],
      "metadata": {
        "id": "BAlLUlKLfJW5"
      }
    },
    {
      "cell_type": "code",
      "source": [
        "greeting = \"Hello, Streamlit\"\n",
        "#greeting[0] = 'A'"
      ],
      "metadata": {
        "id": "Qxv7HjfgfKgD"
      },
      "execution_count": 15,
      "outputs": []
    },
    {
      "cell_type": "code",
      "source": [
        "new_greeting = 'A' + greeting[1:]\n",
        "new_greeting"
      ],
      "metadata": {
        "colab": {
          "base_uri": "https://localhost:8080/",
          "height": 36
        },
        "id": "w6dK95S8fPRB",
        "outputId": "1d494d8b-acd5-4e2f-bda7-0ad523145594"
      },
      "execution_count": 16,
      "outputs": [
        {
          "output_type": "execute_result",
          "data": {
            "text/plain": [
              "'Aello, Streamlit'"
            ],
            "application/vnd.google.colaboratory.intrinsic+json": {
              "type": "string"
            }
          },
          "metadata": {},
          "execution_count": 16
        }
      ]
    },
    {
      "cell_type": "markdown",
      "source": [
        "문자열 메서드"
      ],
      "metadata": {
        "id": "H7OhsChdfcMy"
      }
    },
    {
      "cell_type": "code",
      "source": [
        "sampleText = 'hello, streamlit'\n",
        "upper_text = sampleText.upper()\n",
        "print(upper_text)\n",
        "\n"
      ],
      "metadata": {
        "colab": {
          "base_uri": "https://localhost:8080/"
        },
        "id": "xkAHDLInfeKH",
        "outputId": "b357fbe6-60b1-4948-bca5-55b87d1be3b6"
      },
      "execution_count": 17,
      "outputs": [
        {
          "output_type": "stream",
          "name": "stdout",
          "text": [
            "HELLO, STREAMLIT\n"
          ]
        }
      ]
    },
    {
      "cell_type": "code",
      "source": [
        "lower_text = upper_text.lower()\n",
        "print(lower_text)"
      ],
      "metadata": {
        "colab": {
          "base_uri": "https://localhost:8080/"
        },
        "id": "0rmHPKk5iGvF",
        "outputId": "04d5f450-c410-446d-c81a-5f751c9884bc"
      },
      "execution_count": 18,
      "outputs": [
        {
          "output_type": "stream",
          "name": "stdout",
          "text": [
            "hello, streamlit\n"
          ]
        }
      ]
    },
    {
      "cell_type": "code",
      "source": [
        "title_text = lower_text.title()\n",
        "print(title_text)"
      ],
      "metadata": {
        "colab": {
          "base_uri": "https://localhost:8080/"
        },
        "id": "PvqpDVBbiP-j",
        "outputId": "d4e20d2c-997d-4fc5-a281-47b6c78ae1b6"
      },
      "execution_count": 19,
      "outputs": [
        {
          "output_type": "stream",
          "name": "stdout",
          "text": [
            "Hello, Streamlit\n"
          ]
        }
      ]
    },
    {
      "cell_type": "code",
      "source": [
        "new_text = title_text.replace(\"Hello\",\"Welcome\")\n",
        "print(new_text)"
      ],
      "metadata": {
        "colab": {
          "base_uri": "https://localhost:8080/"
        },
        "id": "_HFTXNAgiVPQ",
        "outputId": "5103ad16-f2e9-4181-d6e8-2708d9ae80c8"
      },
      "execution_count": 20,
      "outputs": [
        {
          "output_type": "stream",
          "name": "stdout",
          "text": [
            "Welcome, Streamlit\n"
          ]
        }
      ]
    },
    {
      "cell_type": "code",
      "source": [
        "words = new_text.split(sep=\",\")\n",
        "print(words,type(words))"
      ],
      "metadata": {
        "colab": {
          "base_uri": "https://localhost:8080/"
        },
        "id": "3R9ywLfKie0i",
        "outputId": "f4585925-5113-490a-f84d-e7720b513411"
      },
      "execution_count": 21,
      "outputs": [
        {
          "output_type": "stream",
          "name": "stdout",
          "text": [
            "['Welcome', ' Streamlit'] <class 'list'>\n"
          ]
        }
      ]
    },
    {
      "cell_type": "markdown",
      "source": [
        "List"
      ],
      "metadata": {
        "id": "5Yl0ee4WitQy"
      }
    },
    {
      "cell_type": "code",
      "source": [
        "from collections.abc import Sequence\n",
        "\n",
        "my_num = 100\n",
        "my_string = \"hello\"\n",
        "my_list = [1,2,3]\n",
        "isinstance(my_list,Sequence)"
      ],
      "metadata": {
        "colab": {
          "base_uri": "https://localhost:8080/"
        },
        "id": "_fkbZclWiuNX",
        "outputId": "62190c4a-8943-4050-ae4c-719e95f8f2cd"
      },
      "execution_count": 22,
      "outputs": [
        {
          "output_type": "execute_result",
          "data": {
            "text/plain": [
              "True"
            ]
          },
          "metadata": {},
          "execution_count": 22
        }
      ]
    },
    {
      "cell_type": "markdown",
      "source": [
        "인덱싱 & 슬라이싱"
      ],
      "metadata": {
        "id": "UCCHAQo3jEkb"
      }
    },
    {
      "cell_type": "code",
      "source": [
        "a = [400,300,200]\n",
        "print(a[0])"
      ],
      "metadata": {
        "colab": {
          "base_uri": "https://localhost:8080/"
        },
        "id": "ZNFqyVPjjGhl",
        "outputId": "33101089-b9b4-40ff-d699-79e258968a5d"
      },
      "execution_count": 23,
      "outputs": [
        {
          "output_type": "stream",
          "name": "stdout",
          "text": [
            "400\n"
          ]
        }
      ]
    },
    {
      "cell_type": "code",
      "source": [
        "print(a[-1])"
      ],
      "metadata": {
        "colab": {
          "base_uri": "https://localhost:8080/"
        },
        "id": "BnkBRopVjJme",
        "outputId": "50d07e6f-f0c5-47cd-de6b-e3d220abcb68"
      },
      "execution_count": 24,
      "outputs": [
        {
          "output_type": "stream",
          "name": "stdout",
          "text": [
            "200\n"
          ]
        }
      ]
    },
    {
      "cell_type": "markdown",
      "source": [
        "중첩 리스트"
      ],
      "metadata": {
        "id": "lkDWQ27IjLlq"
      }
    },
    {
      "cell_type": "code",
      "source": [
        "my_list = [1,2,[\"variety\",'is','the','spice','of','life'],4,5]\n",
        "print(my_list)"
      ],
      "metadata": {
        "colab": {
          "base_uri": "https://localhost:8080/"
        },
        "id": "vNXWrag7jMj2",
        "outputId": "007d10fe-1335-4053-f6b4-f03503afb56e"
      },
      "execution_count": 25,
      "outputs": [
        {
          "output_type": "stream",
          "name": "stdout",
          "text": [
            "[1, 2, ['variety', 'is', 'the', 'spice', 'of', 'life'], 4, 5]\n"
          ]
        }
      ]
    },
    {
      "cell_type": "code",
      "source": [
        "my_list[2][3:]"
      ],
      "metadata": {
        "colab": {
          "base_uri": "https://localhost:8080/"
        },
        "id": "jWJvxtEzjXJ_",
        "outputId": "2038430a-7179-47c2-fc31-cf46869ebc08"
      },
      "execution_count": 26,
      "outputs": [
        {
          "output_type": "execute_result",
          "data": {
            "text/plain": [
              "['spice', 'of', 'life']"
            ]
          },
          "metadata": {},
          "execution_count": 26
        }
      ]
    },
    {
      "cell_type": "markdown",
      "source": [
        "리스트 주요 메서드"
      ],
      "metadata": {
        "id": "0ebiMmEFjeM8"
      }
    },
    {
      "cell_type": "code",
      "source": [
        "sample_texts = [\"I\",\"like\"]\n",
        "new_object  = sample_texts.append('your smile')\n",
        "print(new_object)"
      ],
      "metadata": {
        "colab": {
          "base_uri": "https://localhost:8080/"
        },
        "id": "xGb_C6Yujfe_",
        "outputId": "c97f2c82-d30e-4b91-c6e3-90b3d4ee0107"
      },
      "execution_count": 27,
      "outputs": [
        {
          "output_type": "stream",
          "name": "stdout",
          "text": [
            "None\n"
          ]
        }
      ]
    },
    {
      "cell_type": "code",
      "source": [
        "sample_texts = [\"I\",\"like\"]\n",
        "sample_texts.append('your smile')\n",
        "print(sample_texts)"
      ],
      "metadata": {
        "colab": {
          "base_uri": "https://localhost:8080/"
        },
        "id": "IWf5KVdLjsQh",
        "outputId": "2cc72736-90ad-4039-8372-707dbe94c75c"
      },
      "execution_count": 28,
      "outputs": [
        {
          "output_type": "stream",
          "name": "stdout",
          "text": [
            "['I', 'like', 'your smile']\n"
          ]
        }
      ]
    },
    {
      "cell_type": "code",
      "source": [
        "nums = [0,1,3,4]\n",
        "nums.insert(2,2)\n",
        "print(nums)"
      ],
      "metadata": {
        "colab": {
          "base_uri": "https://localhost:8080/"
        },
        "id": "TLfXkdl7j20v",
        "outputId": "ed3cbec1-4fcc-4b39-eaf7-7d9ccfd9ab29"
      },
      "execution_count": 29,
      "outputs": [
        {
          "output_type": "stream",
          "name": "stdout",
          "text": [
            "[0, 1, 2, 3, 4]\n"
          ]
        }
      ]
    },
    {
      "cell_type": "code",
      "source": [
        "letter = [\"you\",\"are\",\"my\",\"friend\"]\n",
        "letter[3] = \"everything\"\n",
        "print(letter)"
      ],
      "metadata": {
        "colab": {
          "base_uri": "https://localhost:8080/"
        },
        "id": "n36A3Ifpj9D5",
        "outputId": "5f6f313f-b1f4-4573-f906-4a3669b1c5e6"
      },
      "execution_count": 30,
      "outputs": [
        {
          "output_type": "stream",
          "name": "stdout",
          "text": [
            "['you', 'are', 'my', 'everything']\n"
          ]
        }
      ]
    },
    {
      "cell_type": "code",
      "source": [
        "letter = [\"you\",\"are\",\"my\",\"friend\"]\n",
        "letter.remove(\"are\")\n",
        "print(letter)"
      ],
      "metadata": {
        "colab": {
          "base_uri": "https://localhost:8080/"
        },
        "id": "gEXR_XXqkH4H",
        "outputId": "691b4b6f-75d5-46f8-913a-f73040befa2a"
      },
      "execution_count": 31,
      "outputs": [
        {
          "output_type": "stream",
          "name": "stdout",
          "text": [
            "['you', 'my', 'friend']\n"
          ]
        }
      ]
    },
    {
      "cell_type": "code",
      "source": [
        "nums = [3,1,2,5,6]\n",
        "nums.sort()\n",
        "print(nums)"
      ],
      "metadata": {
        "colab": {
          "base_uri": "https://localhost:8080/"
        },
        "id": "sY5N3dYCkQ5J",
        "outputId": "3c20dbff-b3d7-4541-89fa-472b743d53d3"
      },
      "execution_count": 32,
      "outputs": [
        {
          "output_type": "stream",
          "name": "stdout",
          "text": [
            "[1, 2, 3, 5, 6]\n"
          ]
        }
      ]
    },
    {
      "cell_type": "code",
      "source": [
        "nums = [3,1,2,5,6]\n",
        "nums.sort(reverse=True)\n",
        "print(nums)"
      ],
      "metadata": {
        "colab": {
          "base_uri": "https://localhost:8080/"
        },
        "id": "-1l33jkrkViw",
        "outputId": "4ecae1a1-2bba-4b11-f313-5654fe3546a0"
      },
      "execution_count": 33,
      "outputs": [
        {
          "output_type": "stream",
          "name": "stdout",
          "text": [
            "[6, 5, 3, 2, 1]\n"
          ]
        }
      ]
    },
    {
      "cell_type": "markdown",
      "source": [],
      "metadata": {
        "id": "_qeYPWuskZnK"
      }
    },
    {
      "cell_type": "markdown",
      "source": [
        "튜플"
      ],
      "metadata": {
        "id": "q_Lhikm7kaAS"
      }
    },
    {
      "cell_type": "code",
      "source": [
        "my_tuple = {\"Hi\",1,3,12}\n",
        "print(my_tuple)"
      ],
      "metadata": {
        "colab": {
          "base_uri": "https://localhost:8080/"
        },
        "id": "ekX8m8wmkatQ",
        "outputId": "a6b758b8-8021-4139-e4b3-1e98e371e53e"
      },
      "execution_count": 34,
      "outputs": [
        {
          "output_type": "stream",
          "name": "stdout",
          "text": [
            "{1, 'Hi', 3, 12}\n"
          ]
        }
      ]
    },
    {
      "cell_type": "code",
      "source": [
        "my_nested_tuple = (\"Hi\", (1, 2, 3), (3.12, 1.23, 4.21))\n",
        "print(my_nested_tuple[2][2])"
      ],
      "metadata": {
        "colab": {
          "base_uri": "https://localhost:8080/"
        },
        "id": "Nn8x1-nUkfkP",
        "outputId": "9f1ecbce-1759-4a01-ebea-32ac02a60a21"
      },
      "execution_count": 43,
      "outputs": [
        {
          "output_type": "stream",
          "name": "stdout",
          "text": [
            "4.21\n"
          ]
        }
      ]
    },
    {
      "cell_type": "code",
      "source": [
        "del my_list[0]\n",
        "print(my_list)"
      ],
      "metadata": {
        "colab": {
          "base_uri": "https://localhost:8080/"
        },
        "id": "rZlOLpQWk2d1",
        "outputId": "bd393e23-11e2-49f9-e6ed-d7fc96322eed"
      },
      "execution_count": 42,
      "outputs": [
        {
          "output_type": "stream",
          "name": "stdout",
          "text": [
            "[['variety', 'is', 'the', 'spice', 'of', 'life'], 4, 5]\n"
          ]
        }
      ]
    },
    {
      "cell_type": "code",
      "source": [
        "my_tuple = (\"hi\",1,3,12)\n",
        "#my_tuple[0] = 0\n",
        "del my_tuple[0]"
      ],
      "metadata": {
        "colab": {
          "base_uri": "https://localhost:8080/",
          "height": 180
        },
        "id": "8KGZTjxmk66d",
        "outputId": "8c936512-63f3-4695-c687-7f154b731ea0"
      },
      "execution_count": 44,
      "outputs": [
        {
          "output_type": "error",
          "ename": "TypeError",
          "evalue": "'tuple' object doesn't support item deletion",
          "traceback": [
            "\u001b[0;31m---------------------------------------------------------------------------\u001b[0m",
            "\u001b[0;31mTypeError\u001b[0m                                 Traceback (most recent call last)",
            "\u001b[0;32m/tmp/ipython-input-44-3090368883.py\u001b[0m in \u001b[0;36m<cell line: 0>\u001b[0;34m()\u001b[0m\n\u001b[1;32m      1\u001b[0m \u001b[0mmy_tuple\u001b[0m \u001b[0;34m=\u001b[0m \u001b[0;34m(\u001b[0m\u001b[0;34m\"hi\"\u001b[0m\u001b[0;34m,\u001b[0m\u001b[0;36m1\u001b[0m\u001b[0;34m,\u001b[0m\u001b[0;36m3\u001b[0m\u001b[0;34m,\u001b[0m\u001b[0;36m12\u001b[0m\u001b[0;34m)\u001b[0m\u001b[0;34m\u001b[0m\u001b[0;34m\u001b[0m\u001b[0m\n\u001b[1;32m      2\u001b[0m \u001b[0;31m#my_tuple[0] = 0\u001b[0m\u001b[0;34m\u001b[0m\u001b[0;34m\u001b[0m\u001b[0m\n\u001b[0;32m----> 3\u001b[0;31m \u001b[0;32mdel\u001b[0m \u001b[0mmy_tuple\u001b[0m\u001b[0;34m[\u001b[0m\u001b[0;36m0\u001b[0m\u001b[0;34m]\u001b[0m\u001b[0;34m\u001b[0m\u001b[0;34m\u001b[0m\u001b[0m\n\u001b[0m",
            "\u001b[0;31mTypeError\u001b[0m: 'tuple' object doesn't support item deletion"
          ]
        }
      ]
    },
    {
      "cell_type": "code",
      "source": [
        "my_tuple = (\"Love\",\"Love\",\"Love\",\"Hate\",\"Love\",\"Love\")\n",
        "print(my_tuple.count(\"Love\"))\n",
        "print(my_tuple.index(\"Hate\"))"
      ],
      "metadata": {
        "colab": {
          "base_uri": "https://localhost:8080/"
        },
        "id": "y-AMsHMzlFRv",
        "outputId": "31f4ce35-8505-4f93-a578-f22276bba819"
      },
      "execution_count": 45,
      "outputs": [
        {
          "output_type": "stream",
          "name": "stdout",
          "text": [
            "5\n",
            "3\n"
          ]
        }
      ]
    },
    {
      "cell_type": "markdown",
      "source": [
        "딕셔너리"
      ],
      "metadata": {
        "id": "GLuRvNmGlY8k"
      }
    },
    {
      "cell_type": "code",
      "source": [
        "my_dict = {'name':'evan',\n",
        "           'age':20,\n",
        "           'shoping': [1,2,3]\n",
        "          }\n",
        "print(my_dict)\n",
        "print(type(my_dict))"
      ],
      "metadata": {
        "colab": {
          "base_uri": "https://localhost:8080/"
        },
        "id": "CKMr3B3UlaFw",
        "outputId": "8b568815-874f-4677-afe8-390a7e393a47"
      },
      "execution_count": 46,
      "outputs": [
        {
          "output_type": "stream",
          "name": "stdout",
          "text": [
            "{'name': 'evan', 'age': 20, 'shoping': [1, 2, 3]}\n",
            "<class 'dict'>\n"
          ]
        }
      ]
    },
    {
      "cell_type": "code",
      "source": [
        "print(my_dict['name'])"
      ],
      "metadata": {
        "colab": {
          "base_uri": "https://localhost:8080/"
        },
        "id": "z5JfuIk7lmhT",
        "outputId": "51336ef7-d201-48d7-e1a8-4ba366263292"
      },
      "execution_count": 47,
      "outputs": [
        {
          "output_type": "stream",
          "name": "stdout",
          "text": [
            "evan\n"
          ]
        }
      ]
    },
    {
      "cell_type": "code",
      "source": [
        "my_dict['country'] = '대한민국'\n",
        "print(my_dict)"
      ],
      "metadata": {
        "colab": {
          "base_uri": "https://localhost:8080/"
        },
        "id": "oojtZdBylsAY",
        "outputId": "4e5dd809-6eb5-42a0-8202-97b43ba6d75e"
      },
      "execution_count": 48,
      "outputs": [
        {
          "output_type": "stream",
          "name": "stdout",
          "text": [
            "{'name': 'evan', 'age': 20, 'shoping': [1, 2, 3], 'country': '대한민국'}\n"
          ]
        }
      ]
    },
    {
      "cell_type": "code",
      "source": [
        "my_dict['shoping'] = '가방'\n",
        "print(my_dict)"
      ],
      "metadata": {
        "colab": {
          "base_uri": "https://localhost:8080/"
        },
        "id": "kZfBebHulyra",
        "outputId": "88546d23-a321-4f00-c5ae-a08398b11c0e"
      },
      "execution_count": 49,
      "outputs": [
        {
          "output_type": "stream",
          "name": "stdout",
          "text": [
            "{'name': 'evan', 'age': 20, 'shoping': '가방', 'country': '대한민국'}\n"
          ]
        }
      ]
    },
    {
      "cell_type": "code",
      "source": [
        "del my_dict['shoping']\n",
        "print(my_dict)"
      ],
      "metadata": {
        "colab": {
          "base_uri": "https://localhost:8080/"
        },
        "id": "BT5KiLdwl4n4",
        "outputId": "2877aa75-d11d-468d-8417-6a1c44c2d534"
      },
      "execution_count": 50,
      "outputs": [
        {
          "output_type": "stream",
          "name": "stdout",
          "text": [
            "{'name': 'evan', 'age': 20, 'country': '대한민국'}\n"
          ]
        }
      ]
    },
    {
      "cell_type": "markdown",
      "source": [
        "조건문"
      ],
      "metadata": {
        "id": "MJ5jm95smAnl"
      }
    },
    {
      "cell_type": "code",
      "source": [
        "a = 31\n",
        "b = 31\n",
        "if a > b:\n",
        "  print(\"a가 b보다 크거나 같다\")\n",
        "elif a == b:\n",
        "  print(\"같다\")\n",
        "else:\n",
        "  print('a가 b보다 작다')"
      ],
      "metadata": {
        "colab": {
          "base_uri": "https://localhost:8080/"
        },
        "id": "3Gs3p0ohmBcV",
        "outputId": "d15c4004-51ca-4ca2-e511-6a19f80fcd8e"
      },
      "execution_count": 51,
      "outputs": [
        {
          "output_type": "stream",
          "name": "stdout",
          "text": [
            "같다\n"
          ]
        }
      ]
    },
    {
      "cell_type": "code",
      "source": [
        "my_string = \"Don't them in, don't let them see\"\n",
        "if \"let\" in my_string:\n",
        "  print(\"존재\")\n",
        "else:\n",
        "  print('x')"
      ],
      "metadata": {
        "colab": {
          "base_uri": "https://localhost:8080/"
        },
        "id": "ws8mdzb2mQVo",
        "outputId": "c4206063-c251-4878-a8be-c529e64c151d"
      },
      "execution_count": 52,
      "outputs": [
        {
          "output_type": "stream",
          "name": "stdout",
          "text": [
            "존재\n"
          ]
        }
      ]
    },
    {
      "cell_type": "markdown",
      "source": [
        "for 문"
      ],
      "metadata": {
        "id": "wUxSlVelmffQ"
      }
    },
    {
      "cell_type": "code",
      "source": [
        "range(10)"
      ],
      "metadata": {
        "id": "OVv51t7jmglj"
      },
      "execution_count": null,
      "outputs": []
    },
    {
      "cell_type": "code",
      "source": [
        "for i in range(10):\n",
        "  print(str(i)+ \"번째 Hello World\")"
      ],
      "metadata": {
        "colab": {
          "base_uri": "https://localhost:8080/"
        },
        "id": "1ZNXW47wmiw8",
        "outputId": "1487618d-5b61-4d27-ac60-7c146f00c2d0"
      },
      "execution_count": 53,
      "outputs": [
        {
          "output_type": "stream",
          "name": "stdout",
          "text": [
            "0번째 Hello World\n",
            "1번째 Hello World\n",
            "2번째 Hello World\n",
            "3번째 Hello World\n",
            "4번째 Hello World\n",
            "5번째 Hello World\n",
            "6번째 Hello World\n",
            "7번째 Hello World\n",
            "8번째 Hello World\n",
            "9번째 Hello World\n"
          ]
        }
      ]
    },
    {
      "cell_type": "code",
      "source": [
        "num_lists = [10,20,30]\n",
        "for num in num_lists:\n",
        "  print(num)"
      ],
      "metadata": {
        "colab": {
          "base_uri": "https://localhost:8080/"
        },
        "id": "Tq2EyjormrHx",
        "outputId": "f98bc9f1-683f-4b6f-b624-7ca2819a64b0"
      },
      "execution_count": 54,
      "outputs": [
        {
          "output_type": "stream",
          "name": "stdout",
          "text": [
            "10\n",
            "20\n",
            "30\n"
          ]
        }
      ]
    },
    {
      "cell_type": "code",
      "source": [
        "prices = [1,2,3.4,2.5]\n",
        "total_sales = [100,80,90]\n",
        "for sales, price in zip(total_sales,prices):\n",
        "  revenue = sales * price\n",
        "  print(f'매출액 : {revenue}')"
      ],
      "metadata": {
        "colab": {
          "base_uri": "https://localhost:8080/"
        },
        "id": "tV7JRWWxm2YW",
        "outputId": "b439ddd3-7b99-496e-e3ce-04823a178c7e"
      },
      "execution_count": 55,
      "outputs": [
        {
          "output_type": "stream",
          "name": "stdout",
          "text": [
            "매출액 : 100\n",
            "매출액 : 160\n",
            "매출액 : 306.0\n"
          ]
        }
      ]
    },
    {
      "cell_type": "markdown",
      "source": [
        "  While 문"
      ],
      "metadata": {
        "id": "RmjSeBsYnvXO"
      }
    },
    {
      "cell_type": "code",
      "source": [
        "while True:\n",
        "  print('무한 반복')"
      ],
      "metadata": {
        "id": "GxTzrm3snxQz"
      },
      "execution_count": null,
      "outputs": []
    },
    {
      "cell_type": "code",
      "source": [
        "while False:\n",
        "  print('무한 반복')"
      ],
      "metadata": {
        "id": "IytO0l51n01o"
      },
      "execution_count": 56,
      "outputs": []
    },
    {
      "cell_type": "code",
      "source": [
        "i = 1\n",
        "while i<=10:\n",
        "  print(str(i)+ \"번쨰 안녕하세요!\")\n",
        "  i+=1"
      ],
      "metadata": {
        "colab": {
          "base_uri": "https://localhost:8080/"
        },
        "id": "jpa0uNGfn6td",
        "outputId": "3a442a9e-4000-4cf6-e4ee-64621d77ef2c"
      },
      "execution_count": 57,
      "outputs": [
        {
          "output_type": "stream",
          "name": "stdout",
          "text": [
            "1번쨰 안녕하세요!\n",
            "2번쨰 안녕하세요!\n",
            "3번쨰 안녕하세요!\n",
            "4번쨰 안녕하세요!\n",
            "5번쨰 안녕하세요!\n",
            "6번쨰 안녕하세요!\n",
            "7번쨰 안녕하세요!\n",
            "8번쨰 안녕하세요!\n",
            "9번쨰 안녕하세요!\n",
            "10번쨰 안녕하세요!\n"
          ]
        }
      ]
    },
    {
      "cell_type": "markdown",
      "source": [
        "사용자 정의 함수"
      ],
      "metadata": {
        "id": "JgYxgCstoAi-"
      }
    },
    {
      "cell_type": "code",
      "source": [
        "def addition(num1,num2):\n",
        "  result = num1 + num2\n",
        "  return result"
      ],
      "metadata": {
        "id": "4cvS3WyqoFVa"
      },
      "execution_count": 59,
      "outputs": []
    },
    {
      "cell_type": "code",
      "source": [
        "temp = addition(10,20)\n",
        "print(temp)"
      ],
      "metadata": {
        "colab": {
          "base_uri": "https://localhost:8080/"
        },
        "id": "RfI0-8BOoNEc",
        "outputId": "efe9dbe6-0699-49dd-adbf-6a308904a060"
      },
      "execution_count": 60,
      "outputs": [
        {
          "output_type": "stream",
          "name": "stdout",
          "text": [
            "30\n"
          ]
        }
      ]
    },
    {
      "cell_type": "code",
      "source": [
        "def addition2(num1,num2):\n",
        "  result = num1 + num2\n",
        "  print(result)"
      ],
      "metadata": {
        "id": "T2bDe_dPoX8f"
      },
      "execution_count": 39,
      "outputs": []
    },
    {
      "cell_type": "code",
      "source": [
        "addition2(10,20)"
      ],
      "metadata": {
        "colab": {
          "base_uri": "https://localhost:8080/"
        },
        "id": "M5mGWrY1oZ7c",
        "outputId": "d14e4309-cc98-45f8-b915-ef6f82401969"
      },
      "execution_count": 61,
      "outputs": [
        {
          "output_type": "stream",
          "name": "stdout",
          "text": [
            "30\n"
          ]
        }
      ]
    }
  ]
}